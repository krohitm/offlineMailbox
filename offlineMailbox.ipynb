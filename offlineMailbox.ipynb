{
 "cells": [
  {
   "cell_type": "code",
   "execution_count": 1,
   "metadata": {
    "collapsed": false
   },
   "outputs": [],
   "source": [
    "import sys"
   ]
  },
  {
   "cell_type": "code",
   "execution_count": null,
   "metadata": {
    "collapsed": false
   },
   "outputs": [],
   "source": [
    "import findspark\n",
    "findspark.init()\n",
    "import pyspark\n",
    "import random"
   ]
  },
  {
   "cell_type": "code",
   "execution_count": 2,
   "metadata": {
    "collapsed": true
   },
   "outputs": [],
   "source": [
    "from elasticsearch import Elasticsearch"
   ]
  },
  {
   "cell_type": "code",
   "execution_count": 17,
   "metadata": {
    "collapsed": true
   },
   "outputs": [],
   "source": [
    "es = Elasticsearch()"
   ]
  },
  {
   "cell_type": "markdown",
   "metadata": {},
   "source": [
    "#### Run the follwing command in the terminal(to authenticate) to get the mail archive before running the next commands\n",
    "gmvault sync you@gmail.com -d path/to/where/you/want/the/email/archived"
   ]
  },
  {
   "cell_type": "code",
   "execution_count": 15,
   "metadata": {
    "collapsed": false
   },
   "outputs": [
    {
     "name": "stdout",
     "output_type": "stream",
     "text": [
      "{\"thread_ids\": 1349228336576455316, \"msg_id\": \"1785262635.1286724410050.JavaMail.async@sl-prod-sso-eas5-1\", \"flags\": [\"\\\\Seen\"], \"gm_id\": 1349228336576455316, \"internal_date\": 1286706411, \"x_gmail_received\": null, \"labels\": [\"\\\\Inbox\"], \"subject\": \"Welcome to your Nokia account\"}"
     ]
    }
   ],
   "source": [
    "!cat /Users/GodSpeed/Documents/mailArchive/db/2010-10/1349228336576455316.meta"
   ]
  },
  {
   "cell_type": "code",
   "execution_count": null,
   "metadata": {
    "collapsed": false
   },
   "outputs": [],
   "source": [
    "!gzcat /Users/GodSpeed/Documents/mailArchive/db/2010-10/1349228336576455316.eml.gz"
   ]
  },
  {
   "cell_type": "markdown",
   "metadata": {},
   "source": [
    "### ===================================\n",
    "We’ll walk all the files in the root of the Gmvault database using os.walk, find all files that end in .meta, load the JSON in those files, tweak the JSON just a bit (more on that in a second), and then shove the JSON into Elasticsearch."
   ]
  },
  {
   "cell_type": "code",
   "execution_count": 3,
   "metadata": {
    "collapsed": true
   },
   "outputs": [],
   "source": [
    "import os, json, timeit\n",
    "import email\n",
    "import gzip\n",
    "import io"
   ]
  },
  {
   "cell_type": "code",
   "execution_count": 4,
   "metadata": {
    "collapsed": true
   },
   "outputs": [],
   "source": [
    "#converting all characters to unicode, as elasticsearch handles only unicode\n",
    "def toUnicode(char):\n",
    "    return char.decode('latin-1', errors='replace')"
   ]
  },
  {
   "cell_type": "code",
   "execution_count": 22,
   "metadata": {
    "collapsed": false
   },
   "outputs": [],
   "source": [
    "#can just store the mapping keys instead of the whole document,and when searched, \n",
    "#may access the data using the mapping key. This may be done by storing the actual data somewhere else, \n",
    "#maybe hadoop or not\n",
    "\n",
    "def parse_and_store(es, root, email_path):\n",
    "    gm_id = os.path.split(email_path)[-1]\n",
    "    \n",
    "    with gzip.open(email_path +'.eml.gz', 'r') as fp:\n",
    "        message = email.message_from_file(fp)\n",
    "        #change all the content to unicode for convenience of elasticsearch\n",
    "        meta = {toUnicode(key).lower(): toUnicode(value) \n",
    "                for key, value in message.items()}\n",
    "                \n",
    "        with open(email_path  + '.meta', 'r') as fp:\n",
    "            meta.update(json.load(fp))\n",
    "            \n",
    "        #getting content of mail\n",
    "        content = io.StringIO()\n",
    "        #we'll extract only text from the mail content\n",
    "        if message.is_multipart():\n",
    "            for part in message.get_payload():\n",
    "                if part.get_content_type() == 'text/plain':\n",
    "                    content.write(toUnicode(part.get_payload()))\n",
    "        else:\n",
    "            content.write(toUnicode(message.get_payload()))\n",
    "                \n",
    "        #add additional attributes to meta[_'source'], \n",
    "        #all new additions are made implicitly inside the meta['_source']\n",
    "        meta['account'] = 'rohit.mlhtra@gmail.com'\n",
    "        meta['path'] = email_path\n",
    "                \n",
    "        #add complete data as body\n",
    "        mail = meta.copy()\n",
    "        mail['content'] = content.getvalue()\n",
    "        \n",
    "        es.index(index='mail', doc_type = 'mail', id = gm_id, body=mail)\n",
    "        #es.index(index = 'mail_mes', doc_type = 'message', id = gm_id, body=body)"
   ]
  },
  {
   "cell_type": "code",
   "execution_count": 23,
   "metadata": {
    "collapsed": true
   },
   "outputs": [],
   "source": [
    "def index(root):\n",
    "    es = Elasticsearch()\n",
    "    root = os.path.abspath(root)\n",
    "    for parent_folder, folders, files in os.walk(root):\n",
    "        #f = FloatProgress(min = 0, max = len(files))\n",
    "        #display(f)\n",
    "        for filename in files:\n",
    "            #f.value += 1\n",
    "            if filename.endswith('.meta'):\n",
    "                parse_and_store(es, root, os.path.join(parent_folder, filename.split('.')[0]))"
   ]
  },
  {
   "cell_type": "code",
   "execution_count": 26,
   "metadata": {
    "collapsed": false
   },
   "outputs": [],
   "source": [
    "from ipywidgets import FloatProgress\n",
    "from IPython.display import display\n",
    "\n",
    "folder_path = '/Users/GodSpeed/Documents/mailArchive/'\n",
    "index(folder_path)"
   ]
  },
  {
   "cell_type": "markdown",
   "metadata": {},
   "source": [
    "## Searching the metadata"
   ]
  },
  {
   "cell_type": "markdown",
   "metadata": {},
   "source": [
    "##### Lazy search(non structured query)"
   ]
  },
  {
   "cell_type": "code",
   "execution_count": 18,
   "metadata": {
    "collapsed": false
   },
   "outputs": [
    {
     "data": {
      "text/plain": [
       "{u'_shards': {u'failed': 0, u'skipped': 0, u'successful': 5, u'total': 5},\n",
       " u'hits': {u'hits': [], u'max_score': None, u'total': 0},\n",
       " u'timed_out': False,\n",
       " u'took': 131}"
      ]
     },
     "execution_count": 18,
     "metadata": {},
     "output_type": "execute_result"
    }
   ],
   "source": [
    "es.search('mail', q='playstation')"
   ]
  },
  {
   "cell_type": "markdown",
   "metadata": {},
   "source": [
    "#### To do: \n",
    "1. sync offline mails regularly"
   ]
  },
  {
   "cell_type": "markdown",
   "metadata": {
    "collapsed": true
   },
   "source": [
    "#### Parsing emails text"
   ]
  },
  {
   "cell_type": "code",
   "execution_count": null,
   "metadata": {
    "collapsed": true
   },
   "outputs": [],
   "source": []
  },
  {
   "cell_type": "code",
   "execution_count": null,
   "metadata": {
    "collapsed": true
   },
   "outputs": [],
   "source": [
    "import email\n",
    "import gzip"
   ]
  },
  {
   "cell_type": "code",
   "execution_count": null,
   "metadata": {
    "collapsed": false
   },
   "outputs": [],
   "source": [
    "!gzcat /Users/GodSpeed/Documents/mailArchive/db/2010-10/1349228336576455316.eml.gz"
   ]
  },
  {
   "cell_type": "code",
   "execution_count": null,
   "metadata": {
    "collapsed": false
   },
   "outputs": [],
   "source": [
    "with gzip.open('/Users/GodSpeed/Documents/mailArchive/db/2010-10/1349228336576455316.eml.gz', 'r') as fp:\n",
    "    message = email.message_from_file(fp)\n",
    "print \"%r\"%(message.items())"
   ]
  },
  {
   "cell_type": "code",
   "execution_count": null,
   "metadata": {
    "collapsed": true
   },
   "outputs": [],
   "source": []
  }
 ],
 "metadata": {
  "anaconda-cloud": {},
  "kernelspec": {
   "display_name": "Python [conda env:scorpion]",
   "language": "python",
   "name": "conda-env-scorpion-py"
  },
  "language_info": {
   "codemirror_mode": {
    "name": "ipython",
    "version": 2
   },
   "file_extension": ".py",
   "mimetype": "text/x-python",
   "name": "python",
   "nbconvert_exporter": "python",
   "pygments_lexer": "ipython2",
   "version": "2.7.12"
  }
 },
 "nbformat": 4,
 "nbformat_minor": 2
}

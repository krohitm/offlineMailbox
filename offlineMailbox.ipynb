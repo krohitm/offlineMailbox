{
 "cells": [
  {
   "cell_type": "code",
   "execution_count": 1,
   "metadata": {
    "collapsed": false
   },
   "outputs": [],
   "source": [
    "import sys"
   ]
  },
  {
   "cell_type": "code",
   "execution_count": 2,
   "metadata": {
    "collapsed": false
   },
   "outputs": [],
   "source": [
    "import findspark\n",
    "findspark.init()\n",
    "import pyspark\n",
    "import random"
   ]
  },
  {
   "cell_type": "code",
   "execution_count": 3,
   "metadata": {
    "collapsed": true
   },
   "outputs": [],
   "source": [
    "from elasticsearch import Elasticsearch"
   ]
  },
  {
   "cell_type": "code",
   "execution_count": 6,
   "metadata": {
    "collapsed": true
   },
   "outputs": [],
   "source": [
    "es = Elasticsearch()"
   ]
  },
  {
   "cell_type": "markdown",
   "metadata": {},
   "source": [
    "#### Run the follwing command in the terminal(to authenticate) to get the mail archive before running the next commands\n",
    "gmvault sync you@gmail.com -d path/to/where/you/want/the/email/archived"
   ]
  },
  {
   "cell_type": "code",
   "execution_count": 11,
   "metadata": {
    "collapsed": false
   },
   "outputs": [
    {
     "name": "stdout",
     "output_type": "stream",
     "text": [
      "{\"thread_ids\": 1349228336576455316, \"msg_id\": \"1785262635.1286724410050.JavaMail.async@sl-prod-sso-eas5-1\", \"flags\": [\"\\\\Seen\"], \"gm_id\": 1349228336576455316, \"internal_date\": 1286706411, \"x_gmail_received\": null, \"labels\": [\"\\\\Inbox\"], \"subject\": \"Welcome to your Nokia account\"}"
     ]
    }
   ],
   "source": [
    "!cat /Users/GodSpeed/Documents/mailArchive/db/2010-10/1349228336576455316.meta"
   ]
  },
  {
   "cell_type": "code",
   "execution_count": 16,
   "metadata": {
    "collapsed": false
   },
   "outputs": [
    {
     "name": "stdout",
     "output_type": "stream",
     "text": [
      "X-Antivirus: avast (VPS 17122204)\r",
      "\r\n",
      "X-Antivirus-Status: Clean\r",
      "\r\n",
      "Delivered-To: rohitmlhtra@gmail.com\r",
      "\r\n",
      "Received: by 10.142.212.7 with SMTP id k7cs25361wfg;\r",
      "\r\n",
      "        Sun, 10 Oct 2010 08:26:52 -0700 (PDT)\r",
      "\r\n",
      "Received: by 10.213.27.136 with SMTP id i8mr2791904ebc.46.1286724411783;\r",
      "\r\n",
      "        Sun, 10 Oct 2010 08:26:51 -0700 (PDT)\r",
      "\r\n",
      "Return-Path: <NokiaAccount-no-reply@comms.nokia.com>\r",
      "\r\n",
      "Received: from saempgwp01.nokia.com (saempgwp01.nokia.com [147.243.1.20])\r",
      "\r\n",
      "        by mx.google.com with SMTP id w46si9386858eeh.61.2010.10.10.08.26.50;\r",
      "\r\n",
      "        Sun, 10 Oct 2010 08:26:51 -0700 (PDT)\r",
      "\r\n",
      "Received-SPF: pass (google.com: domain of NokiaAccount-no-reply@comms.nokia.com designates 147.243.1.20 as permitted sender) client-ip=147.243.1.20;\r",
      "\r\n",
      "Authentication-Results: mx.google.com; spf=pass (google.com: domain of NokiaAccount-no-reply@comms.nokia.com designates 147.243.1.20 as permitted sender) smtp.mail=NokiaAccount-no-reply@comms.nokia.com\r",
      "\r\n",
      "Received: (qmail 22160 invoked by uid 165); 10 Oct 2010 15:26:50 -0000\r",
      "\r\n",
      "Received: from saempp06.nokia.com (HELO localhost.localdomain) (147.243.1.27)\r",
      "\r\n",
      "  by saempgwp01.nokia.com with SMTP; 10 Oct 2010 15:26:50 -0000\r",
      "\r\n",
      "Received: from 147.243.1.30 by localhost (EMG 3.1.4.20720/20091006) id 32580234\r",
      "\r\n",
      "\tfor rohitmlhtra@gmail.com; 10 Oct 2010 18:26:50 +0200 (EEST)\r",
      "\r\n",
      "Received: from 10.218.16.13 by localhost (EMG 3.1.4.20720/20091006) id 149483679\r",
      "\r\n",
      "\tfor rohitmlhtra@gmail.com; 10 Oct 2010 18:26:50 +0200 (EEST)\r",
      "\r\n",
      "Message-ID: <1785262635.1286724410050.JavaMail.async@sl-prod-sso-eas5-1>\r",
      "\r\n",
      "Date: Sun, 10 Oct 2010 15:26:50 +0000 (UTC)\r",
      "\r\n",
      "From: Nokia account <NokiaAccount-no-reply@comms.nokia.com>\r",
      "\r\n",
      "To: rohitmlhtra@gmail.com\r",
      "\r\n",
      "Subject: Welcome to your Nokia account\r",
      "\r\n",
      "Mime-Version: 1.0\r",
      "\r\n",
      "Content-Type: text/plain; charset=us-ascii\r",
      "\r\n",
      "Content-Transfer-Encoding: 7bit\r",
      "\r\n",
      "\r",
      "\r\n",
      "\r",
      "\r\n",
      "Welcome amrindercgc,\r",
      "\r\n",
      "\r",
      "\r\n",
      "You're just one step away from opening your Nokia account.\r",
      "\r\n",
      "\r",
      "\r\n",
      "All you'll need to do is confirm that we have your correct email address. To do so, please click on the link below or cut and paste it into your browser address window:\r",
      "\r\n",
      "https://account.nokia.com/acct/verifyEmail?id=BGyOcot3vF&lang=en-US\r",
      "\r\n",
      "\r",
      "\r\n",
      "If you'd like to find out more about Nokia services please go to http://www.ovi.com. Alternatively, if you would like to update your Nokia account details, please visit https://account.nokia.com.\r",
      "\r\n",
      "\r",
      "\r\n",
      "Thank you for joining and we hope you enjoy using Nokia services.\r",
      "\r\n",
      "\r",
      "\r\n",
      "All the best,\r",
      "\r\n",
      "Nokia Account Team\r",
      "\r\n"
     ]
    }
   ],
   "source": [
    "!gzcat /Users/GodSpeed/Documents/mailArchive/db/2010-10/1349228336576455316.eml.gz"
   ]
  },
  {
   "cell_type": "markdown",
   "metadata": {},
   "source": [
    "### ===================================\n",
    "We’ll walk all the files in the root of the Gmvault database using os.walk, find all files that end in .meta, load the JSON in those files, tweak the JSON just a bit (more on that in a second), and then shove the JSON into Elasticsearch."
   ]
  },
  {
   "cell_type": "code",
   "execution_count": 48,
   "metadata": {
    "collapsed": true
   },
   "outputs": [],
   "source": [
    "import os, json, timeit\n",
    "import email\n",
    "import gzip\n",
    "from tqdm import tqdm"
   ]
  },
  {
   "cell_type": "code",
   "execution_count": 67,
   "metadata": {
    "collapsed": false
   },
   "outputs": [],
   "source": [
    "#can just store the mapping keys instead of the whole document,and when searched, \n",
    "#may access the data using the mapping key. This may be done by storing the actual data somewhere else, \n",
    "#maybe hadoop or not\n",
    "\n",
    "def fileToES(folder_path):\n",
    "    for parent_folder, folders, files in os.walk(folder_path):\n",
    "        f = FloatProgress(min = 0, max = len(files))\n",
    "        display(f)\n",
    "        for filename in files:\n",
    "            f.value += 1\n",
    "            if filename.endswith('.meta'):\n",
    "                with gzip.open(os.path.join(parent_folder, filename.rsplit('.', 1)[0]+'.eml.gz'), 'r') as fp:\n",
    "                    message = email.message_from_file(fp)\n",
    "                #change all the content to unicode for convenience of elasticsearch\n",
    "                meta = {toUnicode(key).lower(): toUnicode(value) \n",
    "                        for key, value in message.items()}\n",
    "                #we'll only yake from and to keys from the mail headers\n",
    "                #requiredKeys = ['from', 'to']\n",
    "                #meta = {key: messageItemsKeyValue[key] for key in requiredKeys}\n",
    "                #print meta\n",
    "                with open(os.path.join(parent_folder, filename), 'r') as fp:\n",
    "                    meta.update(json.load(fp))\n",
    "                    #meta = json.load(fp)\n",
    "                #add additional attributes to meta[_'source'], \n",
    "                #all new additions are made implicitly inside the meta['_source']\n",
    "                meta['account'] = 'rohit.mlhtra@gmail.com'\n",
    "                meta['path'] = os.path.join(parent_folder, filename)\n",
    "                es.index(index = 'mail', doc_type = 'message', id = meta['gm_id'], body=meta)\n",
    "                #print meta\n",
    "                #break"
   ]
  },
  {
   "cell_type": "code",
   "execution_count": 68,
   "metadata": {
    "collapsed": false
   },
   "outputs": [],
   "source": [
    "from ipywidgets import FloatProgress\n",
    "from IPython.display import display\n",
    "\n",
    "folder_path = '/Users/GodSpeed/Documents/mailArchive/'\n",
    "fileToES(folder_path)"
   ]
  },
  {
   "cell_type": "markdown",
   "metadata": {},
   "source": [
    "## Searching the metadata"
   ]
  },
  {
   "cell_type": "markdown",
   "metadata": {},
   "source": [
    "##### Lazy search(non structured query)"
   ]
  },
  {
   "cell_type": "code",
   "execution_count": 47,
   "metadata": {
    "collapsed": false
   },
   "outputs": [
    {
     "data": {
      "text/plain": [
       "{u'_shards': {u'failed': 0, u'skipped': 0, u'successful': 5, u'total': 5},\n",
       " u'hits': {u'hits': [{u'_id': u'1574119758260325826',\n",
       "    u'_index': u'mail',\n",
       "    u'_score': 9.661735,\n",
       "    u'_source': {u'account': u'rohit.mlhtra@gmail.com',\n",
       "     u'flags': [u'\\\\Seen'],\n",
       "     u'gm_id': 1574119758260325826,\n",
       "     u'internal_date': 1501179584,\n",
       "     u'labels': [u'\\\\Inbox'],\n",
       "     u'msg_id': u'0100015d86594699-8fb526c7-a6dc-4bfd-9c3f-7ea2c9febfd5-000000@email.amazonses.com',\n",
       "     u'path': u'/Users/GodSpeed/Documents/mailArchive/db/2017-07/1574119758260325826.meta',\n",
       "     u'subject': u'PlayStation 4 Slim 500GB...',\n",
       "     u'thread_ids': 1574119758260325826,\n",
       "     u'x_gmail_received': None},\n",
       "    u'_type': u'message'},\n",
       "   {u'_id': u'1582925169382463414',\n",
       "    u'_index': u'mail',\n",
       "    u'_score': 9.443269,\n",
       "    u'_source': {u'account': u'rohit.mlhtra@gmail.com',\n",
       "     u'arc-authentication-results': u'i=1; mx.google.com;\\r\\n       dkim=pass header.i=@amazon.com header.s=v52wzeq2nhi2ivaga2mkkcxigoeqeycs header.b=hwozCf15;\\r\\n       dkim=pass header.i=@amazonses.com header.s=224i4yxa5dv7c2xz3womw6peuasteono header.b=Jl3INFAS;\\r\\n       spf=pass (google.com: domain of 201711020357586e30cc1a91cc4231be2a8f080bf0p0na-c1t9tavlba9ly7@bounces.amazon.com designates 54.240.15.26 as permitted sender) smtp.mailfrom=201711020357586e30cc1a91cc4231be2a8f080bf0p0na-C1T9TAVLBA9LY7@bounces.amazon.com;\\r\\n       dmarc=pass (p=QUARANTINE sp=QUARANTINE dis=NONE) header.from=amazon.com',\n",
       "     u'arc-message-signature': u'i=1; a=rsa-sha256; c=relaxed/relaxed; d=google.com; s=arc-20160816;\\r\\n        h=feedback-id:date:bounces-to:mime-version:subject:message-id:to:from\\r\\n         :dkim-signature:dkim-signature:arc-authentication-results;\\r\\n        bh=6nw4hAdn3a8VGA3D7NXafubfvNzz0tnO6Z1uCY5Xgso=;\\r\\n        b=kddxs6zJVBMz8gLKKbxGOAWMQFffOPUC3g0acR63j0FP+AuRdrMoo4M8WgfN0lmOUV\\r\\n         0ABXVOFXxrM+0sqphHm8/QVC2fa/cL0GoAdNH8ar5n0FntRfH34C3dzCOnl9V/exRYES\\r\\n         b8XeWscK7Kf6vNsjBFcgzRX79M4qF+9NT8CIsAujTw7Gqr0wHOw5/L4JnNEjgEKMMsR3\\r\\n         70YB92kCjWd9d+MkQQMVSQbCWP4ym5CjRSXXkVYipnI8A9y+PFtcim0GEwrpadfvKDrf\\r\\n         USMVro8cWYpMzbSlxLoa0OF0ZTpKrQ6iUdM6WWyTr97/wCNY6irzbucN9+VUZINP/28C\\r\\n         7mxA==',\n",
       "     u'arc-seal': u'i=1; a=rsa-sha256; t=1509595079; cv=none;\\r\\n        d=google.com; s=arc-20160816;\\r\\n        b=jadsMoHEm/smg1jKXqUxDB95dlMF2L+t1dP/ikzY9qN9zoqvgR6dxelTuMbmo2di1V\\r\\n         NTWynzcWzOPCMSlw74C7iXU5QiNHZ7hhSUy/PJ4nF8ta/2lyDfxrNXOXqvnrUbWJRO7P\\r\\n         XiH4iPgTYcXt62j4F3XBGFjDqD/sIVq2tPh/WwOCifNtWccdPsm1secmIDGY5UB3FZHf\\r\\n         bLHyyh8k4xb0pgxcK3Dy1V+iCzZrQkHR2nFYPF+WRbSXHIA82HKDwa8AnjHSPYeWtZzU\\r\\n         RVmrQGEJIPiPQypzf2fbVJgJ0qKcUzsvyMeOCRaSjp+ku5TsUxo2UNv25FuIWoOSHMZN\\r\\n         7n8A==',\n",
       "     u'authentication-results': u'mx.google.com;\\r\\n       dkim=pass header.i=@amazon.com header.s=v52wzeq2nhi2ivaga2mkkcxigoeqeycs header.b=hwozCf15;\\r\\n       dkim=pass header.i=@amazonses.com header.s=224i4yxa5dv7c2xz3womw6peuasteono header.b=Jl3INFAS;\\r\\n       spf=pass (google.com: domain of 201711020357586e30cc1a91cc4231be2a8f080bf0p0na-c1t9tavlba9ly7@bounces.amazon.com designates 54.240.15.26 as permitted sender) smtp.mailfrom=201711020357586e30cc1a91cc4231be2a8f080bf0p0na-C1T9TAVLBA9LY7@bounces.amazon.com;\\r\\n       dmarc=pass (p=QUARANTINE sp=QUARANTINE dis=NONE) header.from=amazon.com',\n",
       "     u'bounces-to': u'201711020357586e30cc1a91cc4231be2a8f080bf0p0na-C1T9TAVLBA9LY7@bounces.amazon.com',\n",
       "     u'content-type': u'multipart/alternative; \\r\\n\\tboundary=\"----=_Part_1732_384824952.1509595078501\"',\n",
       "     u'date': u'Thu, 2 Nov 2017 03:57:58 +0000',\n",
       "     u'delivered-to': u'rohit.mlhtra@gmail.com',\n",
       "     u'dkim-signature': u'v=1; a=rsa-sha256; q=dns/txt; c=relaxed/simple;\\r\\n\\ts=224i4yxa5dv7c2xz3womw6peuasteono; d=amazonses.com; t=1509595078;\\r\\n\\th=From:To:Message-ID:Subject:MIME-Version:Content-Type:Date:Feedback-ID;\\r\\n\\tbh=4bVpgeM6EouSUDf/9F0rrEfvDinNvG+M6MBUL602Pz4=;\\r\\n\\tb=Jl3INFASiT+pO7ZwT/aiLibTn3AejLUFtTjErn/ZM2kYBYEO9OfbN+h1+Bs22xT/\\r\\n\\twDSU88AA7eilQVjMIh3lw4lqwpWpLgMGGR7H9bHmEheqtnoGQZpGTTfYzUgzIgAVTTt\\r\\n\\tjXOzEXj749PasK6nWekM5K3NzvUUvHfGYfSWT3Ss=',\n",
       "     u'feedback-id': u'1.us-east-1.+gzE1S+MWTFXXYmwxo7wkk651GMxMPAUFYiyN/09X40=:AmazonSES',\n",
       "     u'flags': [u'\\\\Seen'],\n",
       "     u'from': u'\"Amazon.com\" <vfe-campaign-response@amazon.com>',\n",
       "     u'gm_id': 1582925169382463414,\n",
       "     u'internal_date': 1509577079,\n",
       "     u'labels': [u'\\\\Important', u'\\\\Inbox'],\n",
       "     u'message-id': u'<0100015f7ae0df79-1966e4f5-2850-429a-91b9-e2b5dbfaaa2c-000000@email.amazonses.com>',\n",
       "     u'mime-version': u'1.0',\n",
       "     u'msg_id': u'0100015f7ae0df79-1966e4f5-2850-429a-91b9-e2b5dbfaaa2c-000000@email.amazonses.com',\n",
       "     u'path': u'/Users/GodSpeed/Documents/mailArchive/db/2017-11/1582925169382463414.meta',\n",
       "     u'received': u'from a15-26.smtp-out.amazonses.com (a15-26.smtp-out.amazonses.com. [54.240.15.26])\\r\\n        by mx.google.com with ESMTPS id f27si2170041qtk.228.2017.11.01.20.57.58\\r\\n        for <rohit.mlhtra@gmail.com>\\r\\n        (version=TLS1 cipher=ECDHE-RSA-AES128-SHA bits=128/128);\\r\\n        Wed, 01 Nov 2017 20:57:59 -0700 (PDT)',\n",
       "     u'received-spf': u'pass (google.com: domain of 201711020357586e30cc1a91cc4231be2a8f080bf0p0na-c1t9tavlba9ly7@bounces.amazon.com designates 54.240.15.26 as permitted sender) client-ip=54.240.15.26;',\n",
       "     u'return-path': u'<201711020357586e30cc1a91cc4231be2a8f080bf0p0na-C1T9TAVLBA9LY7@bounces.amazon.com>',\n",
       "     u'subject': u'PlayStation 4 Slim 1TB Console...',\n",
       "     u'thread_ids': 1582925169382463414,\n",
       "     u'to': u'rohit.mlhtra@gmail.com',\n",
       "     u'x-amazon-mail-relay-type': u'notification',\n",
       "     u'x-amazon-metadata': u'CA=C1T9TAVLBA9LY7-CU=A1Y8ZP4OLHVEW7-RI=A3AB4K9R0U9MIV',\n",
       "     u'x-antivirus': u'avast (VPS 17122300)',\n",
       "     u'x-antivirus-status': u'Clean',\n",
       "     u'x-google-smtp-source': u'ABhQp+Q+SGYFVBJYznIIhxRKnxhFP0ZoVtVvWwy+zuC4QrFaX1ltC6GITXRJYrHjfsyXPHhKzl+D',\n",
       "     u'x-original-messageid': u'<urn.rtn.msg.201711020357586e30cc1a91cc4231be2a8f080bf0p0na@1509595078508.rtn-na-mktng-m4l1a-7428a7f6.us-east-1.amazon.com>',\n",
       "     u'x-received': u'by 10.237.59.7 with SMTP id p7mr3043680qte.3.1509595079050;\\r\\n        Wed, 01 Nov 2017 20:57:59 -0700 (PDT)',\n",
       "     u'x-ses-outgoing': u'2017.11.02-54.240.15.26',\n",
       "     u'x_gmail_received': None},\n",
       "    u'_type': u'message'},\n",
       "   {u'_id': u'1585158307223876652',\n",
       "    u'_index': u'mail',\n",
       "    u'_score': 9.443269,\n",
       "    u'_source': {u'account': u'rohit.mlhtra@gmail.com',\n",
       "     u'arc-authentication-results': u'i=1; mx.google.com;\\r\\n       dkim=pass header.i=@playstationemail.com header.s=200608 header.b=BVt8zRxN;\\r\\n       spf=pass (google.com: domain of bounce-19_html-221852333-169301-6173457-65@bounce.playstationemail.com designates 199.122.125.115 as permitted sender) smtp.mailfrom=bounce-19_HTML-221852333-169301-6173457-65@bounce.playstationemail.com',\n",
       "     u'arc-message-signature': u'i=1; a=rsa-sha256; c=relaxed/relaxed; d=google.com; s=arc-20160816;\\r\\n        h=feedback-id:message-id:list-id:mime-version:list-unsubscribe:date\\r\\n         :subject:to:from:domainkey-signature:dkim-signature\\r\\n         :arc-authentication-results;\\r\\n        bh=xDYPoKblAZn2zbHsAdiuKwRUKVDf0ysRVrIiCqliJGs=;\\r\\n        b=OISPqCNetsJw/jOkxnkhgblgMZpBbJutiJ4RsFLuFVv+ckbbuApKbXZ+EB+xQFzvmN\\r\\n         +QhX4RU0VgXEhclu9DY6+y12VRII6djgsW6Y/pFTQQhUxmxe1OmPp7F1eal674IN4CBA\\r\\n         bxlSCn8Nk865t1nEYhUHvNxsgpmpOpTMBG5NUOmqZgVSl0VDvGofgOcZGZcdm44zwcjd\\r\\n         iRxqaPbp8uRj9GS3W3CMO/lJFhj/q6I7YeGSN7lQQzqKhL3eU22v5aMc/+bPziKvyrt4\\r\\n         XWg+5pfhrF/XsAVcLZIJ6Z21wMNSRHd4exaGx6ImbLIwx6gxhficxf+hAS3buVw/gkXE\\r\\n         Mt5A==',\n",
       "     u'arc-seal': u'i=1; a=rsa-sha256; t=1511724764; cv=none;\\r\\n        d=google.com; s=arc-20160816;\\r\\n        b=UuqoGqK6th5/p8zvkT18y/Qv2Z1liZF8pw5tKBXS+bqSbHStGvaEQI2RfLADpPF7On\\r\\n         p3BGZR+Zhqw1fQH1pbr1O5Ux6+wEIraiQZN89ew7v0Ch0Ypg6B6rVACLR5J6mGriRjX2\\r\\n         sfiSRRe6U0qHkoA4+eU/jra9HAjvFhhGElVKoGChs3tlbx0peij2x+6VkLXhQ+T2HZc2\\r\\n         LFMeoY8Wix9rQQFOVNUn2H1ykr9fq02fY8uKPPoTdSeaS5xKmLqt7SkEYuSeptj485pS\\r\\n         rj8qaZqiu2+QMP9cUWn/VAz0A1huJe6yBq2JzPf6mHknmkqiRWjl5t3Et7OxK2vR9RcZ\\r\\n         Kixg==',\n",
       "     u'authentication-results': u'mx.google.com;\\r\\n       dkim=pass header.i=@playstationemail.com header.s=200608 header.b=BVt8zRxN;\\r\\n       spf=pass (google.com: domain of bounce-19_html-221852333-169301-6173457-65@bounce.playstationemail.com designates 199.122.125.115 as permitted sender) smtp.mailfrom=bounce-19_HTML-221852333-169301-6173457-65@bounce.playstationemail.com',\n",
       "     u'content-type': u'multipart/alternative;\\r\\n\\tboundary=\"R8hGVazZ6JYf=_?:\"',\n",
       "     u'date': u'Sun, 26 Nov 2017 13:32:27 -0600',\n",
       "     u'delivered-to': u'rohit.mlhtra@gmail.com',\n",
       "     u'dkim-signature': u'v=1; a=rsa-sha1; c=relaxed/relaxed; s=200608; d=playstationemail.com;\\r\\n h=From:To:Subject:Date:List-Unsubscribe:MIME-Version:List-ID:Message-ID:Content-Type; i=PlayStation@playstationemail.com;\\r\\n bh=h3UmLXDzOFg0dzaRI7YVO6o3KZg=;\\r\\n b=BVt8zRxNPjUqkbKJPZI3IipTX/e5lVtVfhOVmWgPgCi3lUx0+BlgOdEkNrNsXfIpyWypMFp0FjSr\\r\\n   stDkutaB4fnnUhPSRuTw8eBxtMvfs+UpbzUax9oauAj4n0oB6clzEbJBKIG+w5RZxZ+U7zyULYlD\\r\\n   U14JiWKk56AvD/qfDyw=',\n",
       "     u'domainkey-signature': u'a=rsa-sha1; c=nofws; q=dns; s=200608; d=playstationemail.com;\\r\\n b=rIJVEBzSJYPnv2o1HhCmmYX/6oPcGYdoNWJFl1m0xIXdFzDic8tNh1RLN/DzuyaWgoMZx8ez4HsK\\r\\n   qlCOsGGTduqW3ahCOo90MBb7fr8JFLfMU9vmjh9eHKXmgN4xknD9gu9Cvc27tEfU2I3m6NuljuFR\\r\\n   Hqz23VmjreWq075f3yk=;',\n",
       "     u'feedback-id': u'6173457:169301:199.122.125.115:sfmktgcld',\n",
       "     u'flags': [u'\\\\Seen'],\n",
       "     u'from': u'\"PlayStation\" <PlayStation@playstationemail.com>',\n",
       "     u'gm_id': 1585158307223876652,\n",
       "     u'internal_date': 1511706764,\n",
       "     u'labels': [u'\\\\Inbox'],\n",
       "     u'list-id': u'<6173457_169301.xt.local>',\n",
       "     u'list-unsubscribe': u'<mailto:leave-fd8115791a3c402029-fe321672746c017f761773-fecb15767c67047c-fe8e12717267007872-ff941275@leave.playstationemail.com>',\n",
       "     u'message-id': u'<c40d6405-3c7e-4c86-9839-5806efb32ccb@ind1s06mta934.xt.local>',\n",
       "     u'mime-version': u'1.0',\n",
       "     u'msg_id': u'c40d6405-3c7e-4c86-9839-5806efb32ccb@ind1s06mta934.xt.local',\n",
       "     u'path': u'/Users/GodSpeed/Documents/mailArchive/db/2017-11/1585158307223876652.meta',\n",
       "     u'received': u'by mta.playstationemail.com id h3cbdo163hs9 for <rohit.mlhtra@gmail.com>; Sun, 26 Nov 2017 19:32:27 +0000 (envelope-from <bounce-19_HTML-221852333-169301-6173457-65@bounce.playstationemail.com>)',\n",
       "     u'received-spf': u'pass (google.com: domain of bounce-19_html-221852333-169301-6173457-65@bounce.playstationemail.com designates 199.122.125.115 as permitted sender) client-ip=199.122.125.115;',\n",
       "     u'return-path': u'<bounce-19_HTML-221852333-169301-6173457-65@bounce.playstationemail.com>',\n",
       "     u'subject': u'Congratulations on your new PlayStation',\n",
       "     u'thread_ids': 1585158307223876652,\n",
       "     u'to': u'<rohit.mlhtra@gmail.com>',\n",
       "     u'x-antivirus': u'avast (VPS 17122300)',\n",
       "     u'x-antivirus-status': u'Clean',\n",
       "     u'x-csa-complaints': u'whitelistcomplaints@eco.de',\n",
       "     u'x-google-smtp-source': u'AGs4zMbwXrVLy1+NxImBFYCLu7nonTYBO2dMxGfQnhbZ+aMaGF5VF//Jkjzgi/r9QA5mdnyKmSyB',\n",
       "     u'x-job': u'6173457_169301',\n",
       "     u'x-received': u'by 10.107.191.6 with SMTP id p6mr16766658iof.278.1511724764870;\\r\\n        Sun, 26 Nov 2017 11:32:44 -0800 (PST)',\n",
       "     u'x_gmail_received': None},\n",
       "    u'_type': u'message'},\n",
       "   {u'_id': u'1585024761409654986',\n",
       "    u'_index': u'mail',\n",
       "    u'_score': 9.320953,\n",
       "    u'_source': {u'account': u'rohit.mlhtra@gmail.com',\n",
       "     u'arc-authentication-results': u'i=1; mx.google.com;\\r\\n       dkim=pass header.i=@playstationemail.com header.s=200608 header.b=qE9as3fo;\\r\\n       spf=pass (google.com: domain of bounce-19_html-221852333-167462-6173457-2968@bounce.playstationemail.com designates 199.122.125.141 as permitted sender) smtp.mailfrom=bounce-19_HTML-221852333-167462-6173457-2968@bounce.playstationemail.com',\n",
       "     u'arc-message-signature': u'i=1; a=rsa-sha256; c=relaxed/relaxed; d=google.com; s=arc-20160816;\\r\\n        h=feedback-id:message-id:list-id:mime-version:list-unsubscribe:date\\r\\n         :subject:to:from:domainkey-signature:dkim-signature\\r\\n         :arc-authentication-results;\\r\\n        bh=K7oO67OIYIiMWT2K2de/I/xQAX7JU0T7AvcXXyiNWGI=;\\r\\n        b=OjRLXbOnG6JGnqTIpXtYb8KE85wuvzNcIa2mEyNGdAbHUO7u8pqtfUWscwYjNmeTuV\\r\\n         ASYcvrX9DnEdD5t41CWVK+f8s5+hIbTree3M+m4MWMZ7YEmfkKyntz5KZb8rjeG6+AY+\\r\\n         WQNAUnS/uPhA94iChhyfGxp2vyJiexiSyPlHpRh2ihLOauca3BNFnxl60R+akmVIfrWu\\r\\n         Z01vu410jxfU7FR19hpYX7Tk9HEisyhdpFHg6JsJBFkPpSKScrmCJQrgyOSDKQpxCbHe\\r\\n         06Tz3ogkUEpLQbeExWHB/ZO8KgtVyUjMFrUP8Kl+ZKswpuedF3aJh/LLkXlV2bwwoD2F\\r\\n         wXbw==',\n",
       "     u'arc-seal': u'i=1; a=rsa-sha256; t=1511597405; cv=none;\\r\\n        d=google.com; s=arc-20160816;\\r\\n        b=z7iuAXE++z8Hxs4MDzSm3wEPKnu9pvxDs+udzKumU+jefzyyBiWlnvWJxBzZvvk5cW\\r\\n         DDQ6HRddsQaK3ehJfoMIsUIDzDJg51VafIDvksYeKDFKn82blyZiMSc4l5IzzswH7f+d\\r\\n         jXJgUTwo5hFc5HFUva6sCUJV8Idgkos2aAUyi0PpMNiiTxSoTTWg+uWRMYpis1rFDE1g\\r\\n         VQPXkXfrc9u02ibY7qV+izZwCmOeDYK7t9oH+QqTSIigFgSfUGv5P4Q/xC9z3agZa/S5\\r\\n         6vENtUYMKLpoHAlEDfBNMflW/YkoqSakvaCKOqDaYxIMvQXvAd6RGIITApeOL9Y3RO59\\r\\n         kFFw==',\n",
       "     u'authentication-results': u'mx.google.com;\\r\\n       dkim=pass header.i=@playstationemail.com header.s=200608 header.b=qE9as3fo;\\r\\n       spf=pass (google.com: domain of bounce-19_html-221852333-167462-6173457-2968@bounce.playstationemail.com designates 199.122.125.141 as permitted sender) smtp.mailfrom=bounce-19_HTML-221852333-167462-6173457-2968@bounce.playstationemail.com',\n",
       "     u'content-type': u'multipart/alternative;\\r\\n\\tboundary=\"c1EL0pWfy2Fo=_?:\"',\n",
       "     u'date': u'Sat, 25 Nov 2017 02:10:03 -0600',\n",
       "     u'delivered-to': u'rohit.mlhtra@gmail.com',\n",
       "     u'dkim-signature': u'v=1; a=rsa-sha1; c=relaxed/relaxed; s=200608; d=playstationemail.com;\\r\\n h=From:To:Subject:Date:List-Unsubscribe:MIME-Version:List-ID:Message-ID:Content-Type; i=PlayStation@playstationemail.com;\\r\\n bh=biLcLSqn1OC3pupMjfyg/F7SpsY=;\\r\\n b=qE9as3fo6RQ2RHZgVF+iSlNVqU0nFR8g3fmWhPTkzE7xbtgnCUV+zpICGlBz3+ApQbP1ZRARStz5\\r\\n   10F92ROL2DIZDxItgdltKwLgnxDpvYLEARqNKovSkwPugutdOsi3xACR2jZxg95QYky0CDbI8lJv\\r\\n   5elvU4libVffRdoIKu4=',\n",
       "     u'domainkey-signature': u'a=rsa-sha1; c=nofws; q=dns; s=200608; d=playstationemail.com;\\r\\n b=O71/q1JnuD/YPVoS9gGwkwFkFBIRBYwvYplrfYNeJnwvAMvcDh5boWrkHHTe1q6aYo0GFFRJdqGL\\r\\n   +lV0LcFcY76JbV3BhSQTZ9s+SxTLxEvV6gBrIkLgrQ3sz61hfD4xuC5kqZxxg2WPCsCCQ6X6gjnc\\r\\n   Afwh3AH+lt+Pu/wla40=;',\n",
       "     u'feedback-id': u'6173457:167462:199.122.125.141:sfmktgcld',\n",
       "     u'flags': [u'\\\\Seen'],\n",
       "     u'from': u'\"PlayStation Store\" <PlayStation@playstationemail.com>',\n",
       "     u'gm_id': 1585024761409654986,\n",
       "     u'internal_date': 1511579405,\n",
       "     u'labels': [u'\\\\Important', u'\\\\Inbox'],\n",
       "     u'list-id': u'<6173457_167462.xt.local>',\n",
       "     u'list-unsubscribe': u'<mailto:leave-fd8115791a3c402029-fe321672746c017f761773-fec515767260027f-fe8e12717267007872-ff261679736c@leave.playstationemail.com>',\n",
       "     u'message-id': u'<02cda068-8d03-4e51-8042-80aafa5c7977@xtinp2mta1261.xt.local>',\n",
       "     u'mime-version': u'1.0',\n",
       "     u'msg_id': u'02cda068-8d03-4e51-8042-80aafa5c7977@xtinp2mta1261.xt.local',\n",
       "     u'path': u'/Users/GodSpeed/Documents/mailArchive/db/2017-11/1585024761409654986.meta',\n",
       "     u'received': u'by mta4.playstationemail.com id h34ilq163hs2 for <rohit.mlhtra@gmail.com>; Sat, 25 Nov 2017 02:10:04 -0600 (envelope-from <bounce-19_HTML-221852333-167462-6173457-2968@bounce.playstationemail.com>)',\n",
       "     u'received-spf': u'pass (google.com: domain of bounce-19_html-221852333-167462-6173457-2968@bounce.playstationemail.com designates 199.122.125.141 as permitted sender) client-ip=199.122.125.141;',\n",
       "     u'return-path': u'<bounce-19_HTML-221852333-167462-6173457-2968@bounce.playstationemail.com>',\n",
       "     u'subject': u'Welcome to PlayStation Store',\n",
       "     u'thread_ids': 1585024761409654986,\n",
       "     u'to': u'<rohit.mlhtra@gmail.com>',\n",
       "     u'x-antivirus': u'avast (VPS 17122300)',\n",
       "     u'x-antivirus-status': u'Clean',\n",
       "     u'x-csa-complaints': u'whitelistcomplaints@eco.de',\n",
       "     u'x-google-smtp-source': u'AGs4zMbmgEflrsFg9n+U8dFgDtsAR2IFw7+q6Ta3B2UMmeKz/Ay1dU01j5BToKmvtjtZcC1e+o52',\n",
       "     u'x-job': u'6173457_167462',\n",
       "     u'x-received': u'by 10.36.80.210 with SMTP id m201mr20537523itb.74.1511597405776;\\r\\n        Sat, 25 Nov 2017 00:10:05 -0800 (PST)',\n",
       "     u'x_gmail_received': None},\n",
       "    u'_type': u'message'},\n",
       "   {u'_id': u'1581095209992690265',\n",
       "    u'_index': u'mail',\n",
       "    u'_score': 9.073337,\n",
       "    u'_source': {u'account': u'rohit.mlhtra@gmail.com',\n",
       "     u'flags': [u'\\\\Seen'],\n",
       "     u'from': u'\"Amazon.com\" <vfe-campaign-response@amazon.com>',\n",
       "     u'gm_id': 1581095209992690265,\n",
       "     u'internal_date': 1507831893,\n",
       "     u'labels': [u'\\\\Important', u'\\\\Inbox'],\n",
       "     u'msg_id': u'0100015f12db741f-48be5151-f310-419a-b7d8-6d0bb3da3b82-000000@email.amazonses.com',\n",
       "     u'path': u'/Users/GodSpeed/Documents/mailArchive/db/2017-10/1581095209992690265.meta',\n",
       "     u'subject': u'PlayStation 4 Slim 500GB...',\n",
       "     u'thread_ids': 1581095209992690265,\n",
       "     u'to': u'rohit.mlhtra@gmail.com',\n",
       "     u'x_gmail_received': None},\n",
       "    u'_type': u'message'},\n",
       "   {u'_id': u'1585339617026814731',\n",
       "    u'_index': u'mail',\n",
       "    u'_score': 8.926247,\n",
       "    u'_source': {u'account': u'rohit.mlhtra@gmail.com',\n",
       "     u'arc-authentication-results': u'i=1; mx.google.com;\\r\\n       dkim=pass header.i=@playstationemail.com header.s=200608 header.b=d7l65PGv;\\r\\n       spf=pass (google.com: domain of bounce-19_html-221852333-169734-6173457-95@bounce.playstationemail.com designates 199.122.125.141 as permitted sender) smtp.mailfrom=bounce-19_HTML-221852333-169734-6173457-95@bounce.playstationemail.com',\n",
       "     u'arc-message-signature': u'i=1; a=rsa-sha256; c=relaxed/relaxed; d=google.com; s=arc-20160816;\\r\\n        h=feedback-id:message-id:list-id:mime-version:list-unsubscribe:date\\r\\n         :subject:to:from:domainkey-signature:dkim-signature\\r\\n         :arc-authentication-results;\\r\\n        bh=HVcjkKRqYvcdDVry+HT0n0TlOEfybqTQRAr99WYof9Q=;\\r\\n        b=d3P/ImINmfPsZgK/BOlAEipELZkPmWL58B4vQ6f9h8eCTEVOf4VyAJ9iiJZ+xZIrS9\\r\\n         pDMzwaKU+ZZDYvxmRUhrxs3GIYaMYMNjf1qoS5nFtESi5GieH/ocebfQMXBkkbHN83d2\\r\\n         hBTKxu9Rhm6rRjtTLnkVyat9lepEj/UAsTFGKqXOd+St/HdJDqBn1lT/3jqQukmfsy7s\\r\\n         nq21WTuJzaWsJkWZSv+hJ7FNqpXSwLE4Rv1stBncStVoyGay8dWdQ9JEgJ1Qtp3C9U2a\\r\\n         9jQVn8rECI0GKHG/arVJk68nHhM5n3rRyYsRwqM9tG5XfUuMtalilpp6I5UvHGeMHNqT\\r\\n         ATfQ==',\n",
       "     u'arc-seal': u'i=1; a=rsa-sha256; t=1511897675; cv=none;\\r\\n        d=google.com; s=arc-20160816;\\r\\n        b=SiVv+1H3LgN8hukiZrgqYPgVve7PEl6N84UhoozfCeoaGMhQLCN84WRoo6JQYtB7o+\\r\\n         ycwDBd4+JSX7Cyagbo/8BPnZubBminLQepACaMgiZnN9MwewgF34pqLkcclbpmtBRs50\\r\\n         0Wsy6KjshJqhleTD7Vu2r163l5Eb+gn7txdUnWguK6dped0YvuB9atUREZOLdnLHrvK0\\r\\n         Eom8WfBZSqK3I0XEDI3JMRCUImxlPOT7u3xGlo9FzW9PuUFoEX2Cmhqeix6w20yDE4rM\\r\\n         KpLy94O/BR5WblVeJ/W5JrESPZE4oG1AsnAxAeRkfvocUfLm/bXdMs0SpypYw07dQT6T\\r\\n         c15A==',\n",
       "     u'authentication-results': u'mx.google.com;\\r\\n       dkim=pass header.i=@playstationemail.com header.s=200608 header.b=d7l65PGv;\\r\\n       spf=pass (google.com: domain of bounce-19_html-221852333-169734-6173457-95@bounce.playstationemail.com designates 199.122.125.141 as permitted sender) smtp.mailfrom=bounce-19_HTML-221852333-169734-6173457-95@bounce.playstationemail.com',\n",
       "     u'content-type': u'multipart/alternative;\\r\\n\\tboundary=\"WBS0W9e44Knw=_?:\"',\n",
       "     u'date': u'Tue, 28 Nov 2017 13:34:21 -0600',\n",
       "     u'delivered-to': u'rohit.mlhtra@gmail.com',\n",
       "     u'dkim-signature': u'v=1; a=rsa-sha1; c=relaxed/relaxed; s=200608; d=playstationemail.com;\\r\\n h=From:To:Subject:Date:List-Unsubscribe:MIME-Version:List-ID:Message-ID:Content-Type; i=PlayStation@playstationemail.com;\\r\\n bh=DRff7bB/2Ys3gKU8Fsd82UKH+fY=;\\r\\n b=d7l65PGvAfEnEKeV5Ed9H9E5DP/65Z6gMBbXEG33N3m+ObbK2Vm8Rqjo45VizHEdh6s93nS7MIsu\\r\\n   Jas4q6AaNrmRrnPezfwvRDCKZxTQ988FF86jNoJr3RW9BVO9Mc5HgDd6RHjpa8Dee519MsMcioZa\\r\\n   fNlS+dBoFIkiRlEz4VQ=',\n",
       "     u'domainkey-signature': u'a=rsa-sha1; c=nofws; q=dns; s=200608; d=playstationemail.com;\\r\\n b=xWnGHJJhAxZNJ3UrzWDPuID1m2a6d5WIT1wllWtXc5zELTkUB2Msit370Rx1+R/tL4vRFgtAoWcb\\r\\n   SxEb0Iah/sUF3B46hxjpucdUA4bXL2orY1bxmb56HLHSeYHSdz3dfYyHQXg6UoMCBQZL1hFK+/JP\\r\\n   d5G90tDH80Z0CMNGW2Q=;',\n",
       "     u'feedback-id': u'6173457:169734:199.122.125.141:sfmktgcld',\n",
       "     u'flags': [u'\\\\Seen'],\n",
       "     u'from': u'\"PlayStation\" <PlayStation@playstationemail.com>',\n",
       "     u'gm_id': 1585339617026814731,\n",
       "     u'internal_date': 1511879675,\n",
       "     u'labels': [u'\\\\Important', u'\\\\Inbox'],\n",
       "     u'list-id': u'<6173457_169734.xt.local>',\n",
       "     u'list-unsubscribe': u'<mailto:leave-fd8115791a3c402029-fe321672746c017f761773-fec115767c630779-fe8e12717267007872-ff911d75@leave.playstationemail.com>',\n",
       "     u'message-id': u'<f9f2d2db-99d1-42ff-a162-a8b3fb8d821f@ind1s06mta934.xt.local>',\n",
       "     u'mime-version': u'1.0',\n",
       "     u'msg_id': u'f9f2d2db-99d1-42ff-a162-a8b3fb8d821f@ind1s06mta934.xt.local',\n",
       "     u'path': u'/Users/GodSpeed/Documents/mailArchive/db/2017-11/1585339617026814731.meta',\n",
       "     u'received': u'by mta4.playstationemail.com id h3mt4m163hs2 for <rohit.mlhtra@gmail.com>; Tue, 28 Nov 2017 19:34:21 +0000 (envelope-from <bounce-19_HTML-221852333-169734-6173457-95@bounce.playstationemail.com>)',\n",
       "     u'received-spf': u'pass (google.com: domain of bounce-19_html-221852333-169734-6173457-95@bounce.playstationemail.com designates 199.122.125.141 as permitted sender) client-ip=199.122.125.141;',\n",
       "     u'return-path': u'<bounce-19_HTML-221852333-169734-6173457-95@bounce.playstationemail.com>',\n",
       "     u'subject': u'Stream, share and play with your PS4',\n",
       "     u'thread_ids': 1585339617026814731,\n",
       "     u'to': u'<rohit.mlhtra@gmail.com>',\n",
       "     u'x-antivirus': u'avast (VPS 17122300)',\n",
       "     u'x-antivirus-status': u'Clean',\n",
       "     u'x-csa-complaints': u'whitelistcomplaints@eco.de',\n",
       "     u'x-google-smtp-source': u'AGs4zMbkqulgvjqqiwxsNwBcOWG6GXgDNIbjGSdOSze8v/VZ8QBxzq0S4BdG7JwZ/4eTWZef2/YB',\n",
       "     u'x-job': u'6173457_169734',\n",
       "     u'x-received': u'by 10.36.4.144 with SMTP id 138mr4172241itb.78.1511897675323;\\r\\n        Tue, 28 Nov 2017 11:34:35 -0800 (PST)',\n",
       "     u'x_gmail_received': None},\n",
       "    u'_type': u'message'},\n",
       "   {u'_id': u'1585413211330788632',\n",
       "    u'_index': u'mail',\n",
       "    u'_score': 8.885722,\n",
       "    u'_source': {u'account': u'rohit.mlhtra@gmail.com',\n",
       "     u'arc-authentication-results': u'i=1; mx.google.com;\\r\\n       dkim=pass header.i=@playstationemail.com header.s=200608 header.b=KKV46gjv;\\r\\n       spf=pass (google.com: domain of bounce-19_html-221852333-169764-6173457-12@bounce.playstationemail.com designates 199.122.125.139 as permitted sender) smtp.mailfrom=bounce-19_HTML-221852333-169764-6173457-12@bounce.playstationemail.com',\n",
       "     u'arc-message-signature': u'i=1; a=rsa-sha256; c=relaxed/relaxed; d=google.com; s=arc-20160816;\\r\\n        h=feedback-id:message-id:list-id:mime-version:list-unsubscribe:date\\r\\n         :subject:to:from:domainkey-signature:dkim-signature\\r\\n         :arc-authentication-results;\\r\\n        bh=T4cLIfiUf00O31oGIdzDqubFnTbq1dI6DlPAVUZDN9I=;\\r\\n        b=qkp4/eXIDW93RIshRpEDS5KS+wvm3zWELscXb3ua1S1F6i/DPPVzg16yXoFo5dA0UO\\r\\n         M9C/iRXuE7jAbYlWO9N9yjyRwJWSkT9TafYqct3xE7Zuu13TOp9iBOCp0Qc/AKE099hv\\r\\n         349oeAHa14iLBWZs31SQY6owl3aTq8cWdD93zMTz0/ELx9wvP1Xmr4eT7WGejAvTgj/M\\r\\n         PQo+JOHuDTrEvlReNOJgWCHGt0RBMOfXUVLOieClp1HwT0iyq7CK7gk9bD1XeQrReqyE\\r\\n         nh0M9yY7QetAIAOVykzw4PAkqCEaDSNdoYY8FjbI39RH+w8pDYqwOBNc2d5Pxi/edFGX\\r\\n         nQAA==',\n",
       "     u'arc-seal': u'i=1; a=rsa-sha256; t=1511967860; cv=none;\\r\\n        d=google.com; s=arc-20160816;\\r\\n        b=PFKcfbZv8fKMxDBKCFf65rPoFhPrUiKKSVqUCRl3M4CcWKTeZb2JkMPuVJ06WzKhyX\\r\\n         GnUP0+Uo1s7dsR0t8Y9HQX6xiolUarQny11eq1kzNNJsGnasqsygTKhFW+ArsxiPj/tQ\\r\\n         bMBWS0cjCnKx3Oxk9phqKNBoGMMKNEV2d9eLy4kMh7iWAlHsYowT9y2p/1yHd0nNd4t0\\r\\n         Y8FTXohRacgT+bts438QUM0QAf4aNtE9Ak0j2x/LI/0f6qCVCtqdIbQeU1dMbDzhlelw\\r\\n         CG9y4k/O1839iJnxlHMy7qoUNgODbDLcxf47ormocYvBSlLo9UsPnv2ncgqHZoOjBbRr\\r\\n         b94Q==',\n",
       "     u'authentication-results': u'mx.google.com;\\r\\n       dkim=pass header.i=@playstationemail.com header.s=200608 header.b=KKV46gjv;\\r\\n       spf=pass (google.com: domain of bounce-19_html-221852333-169764-6173457-12@bounce.playstationemail.com designates 199.122.125.139 as permitted sender) smtp.mailfrom=bounce-19_HTML-221852333-169764-6173457-12@bounce.playstationemail.com',\n",
       "     u'content-type': u'multipart/alternative;\\r\\n\\tboundary=\"LYFfZDuye8wW=_?:\"',\n",
       "     u'date': u'Wed, 29 Nov 2017 09:04:13 -0600',\n",
       "     u'delivered-to': u'rohit.mlhtra@gmail.com',\n",
       "     u'dkim-signature': u'v=1; a=rsa-sha1; c=relaxed/relaxed; s=200608; d=playstationemail.com;\\r\\n h=From:To:Subject:Date:List-Unsubscribe:MIME-Version:List-ID:Message-ID:Content-Type; i=PlayStation@playstationemail.com;\\r\\n bh=Ea3dzI47wDDb40dn5aLTzr3t0Dg=;\\r\\n b=KKV46gjv2pCwZJo9OrgmUF4F5SYyBOm0wkF5sHTeMd1/fKQm8MWvQnqu/7nZE9Z0q7vJwQm1wBtK\\r\\n   teacOYv52SRizA7FYf9xfPTpOlBoTymFmst5jB5qSuL3CE07SMDSlHJZUAZX9lAqEd0UWH4h///r\\r\\n   GNwtuvpTIEx4lHVr2yw=',\n",
       "     u'domainkey-signature': u'a=rsa-sha1; c=nofws; q=dns; s=200608; d=playstationemail.com;\\r\\n b=Lo8zt9Ei1pDDHsOBbQLGOVx/ghUqxAaCA+EEUFtyKHPMHyLe3diHLUjPlAEv0eNUelm/wget4w2S\\r\\n   r/PuXUaBSdWmX9I1+JzFTvMcW6BZuz9EUOkRIRSWrXI2WfLN4kVBJyFa45JDpycaofhpPs1SIbq8\\r\\n   sdC/d1EWFlibEf8p97I=;',\n",
       "     u'feedback-id': u'6173457:169764:199.122.125.139:sfmktgcld',\n",
       "     u'flags': [u'\\\\Seen'],\n",
       "     u'from': u'\"PlayStation\" <PlayStation@playstationemail.com>',\n",
       "     u'gm_id': 1585413211330788632,\n",
       "     u'internal_date': 1511949860,\n",
       "     u'labels': [u'\\\\Important', u'\\\\Inbox'],\n",
       "     u'list-id': u'<6173457_169764.xt.local>',\n",
       "     u'list-unsubscribe': u'<mailto:leave-fd8115791a3c402029-fe321672746c017f761773-febe15767c630279-fe8e12717267007872-ff9c1572@leave.playstationemail.com>',\n",
       "     u'message-id': u'<0162e045-925c-4c3d-843d-1d98a7394653@ind1s06mta937.xt.local>',\n",
       "     u'mime-version': u'1.0',\n",
       "     u'msg_id': u'0162e045-925c-4c3d-843d-1d98a7394653@ind1s06mta937.xt.local',\n",
       "     u'path': u'/Users/GodSpeed/Documents/mailArchive/db/2017-11/1585413211330788632.meta',\n",
       "     u'received': u'by mta2.playstationemail.com id h3r678163hs9 for <rohit.mlhtra@gmail.com>; Wed, 29 Nov 2017 15:04:14 +0000 (envelope-from <bounce-19_HTML-221852333-169764-6173457-12@bounce.playstationemail.com>)',\n",
       "     u'received-spf': u'pass (google.com: domain of bounce-19_html-221852333-169764-6173457-12@bounce.playstationemail.com designates 199.122.125.139 as permitted sender) client-ip=199.122.125.139;',\n",
       "     u'return-path': u'<bounce-19_HTML-221852333-169764-6173457-12@bounce.playstationemail.com>',\n",
       "     u'subject': u'How to rule the post-post apocalypse',\n",
       "     u'thread_ids': 1585413211330788632,\n",
       "     u'to': u'<rohit.mlhtra@gmail.com>',\n",
       "     u'x-antivirus': u'avast (VPS 17122300)',\n",
       "     u'x-antivirus-status': u'Clean',\n",
       "     u'x-csa-complaints': u'whitelistcomplaints@eco.de',\n",
       "     u'x-google-smtp-source': u'AGs4zMYoyKnmM5vl297vMcjFNDnDgJLLX94gIXM2Y2wuilk+AEw8wXtMJR/GM8CtVIbJ+kum/O7U',\n",
       "     u'x-job': u'6173457_169764',\n",
       "     u'x-received': u'by 10.107.138.135 with SMTP id c7mr3746135ioj.91.1511967860713;\\r\\n        Wed, 29 Nov 2017 07:04:20 -0800 (PST)',\n",
       "     u'x_gmail_received': None},\n",
       "    u'_type': u'message'},\n",
       "   {u'_id': u'1585904048939469895',\n",
       "    u'_index': u'mail',\n",
       "    u'_score': 8.727887,\n",
       "    u'_source': {u'account': u'rohit.mlhtra@gmail.com',\n",
       "     u'flags': [u'\\\\Seen'],\n",
       "     u'gm_id': 1585904048939469895,\n",
       "     u'internal_date': 1512417959,\n",
       "     u'labels': [u'\\\\Important', u'\\\\Inbox'],\n",
       "     u'msg_id': u'010001602435443b-3880e07f-c7cc-425f-9d8b-08a9a22f348c-000000@email.amazonses.com',\n",
       "     u'path': u'/Users/GodSpeed/Documents/mailArchive/db/2017-12/1585904048939469895.meta',\n",
       "     u'subject': u'PlayStation 4 Slim 1TB Console',\n",
       "     u'thread_ids': 1585904048939469895,\n",
       "     u'x_gmail_received': None},\n",
       "    u'_type': u'message'},\n",
       "   {u'_id': u'1576927933321089889',\n",
       "    u'_index': u'mail',\n",
       "    u'_score': 8.505686,\n",
       "    u'_source': {u'account': u'rohit.mlhtra@gmail.com',\n",
       "     u'flags': [u'\\\\Seen'],\n",
       "     u'gm_id': 1576927933321089889,\n",
       "     u'internal_date': 1503857668,\n",
       "     u'labels': [u'\\\\Inbox'],\n",
       "     u'msg_id': u'0100015e25f9974b-baae8fa5-98c4-4f8c-84a1-0f7217958b4e-000000@email.amazonses.com',\n",
       "     u'path': u'/Users/GodSpeed/Documents/mailArchive/db/2017-08/1576927933321089889.meta',\n",
       "     u'subject': u'\"PlayStation 4 Slim 500GB...\" and more',\n",
       "     u'thread_ids': 1576927933321089889,\n",
       "     u'x_gmail_received': None},\n",
       "    u'_type': u'message'},\n",
       "   {u'_id': u'1576836549675276742',\n",
       "    u'_index': u'mail',\n",
       "    u'_score': 8.496405,\n",
       "    u'_source': {u'account': u'rohit.mlhtra@gmail.com',\n",
       "     u'flags': [u'\\\\Seen'],\n",
       "     u'gm_id': 1576836549675276742,\n",
       "     u'internal_date': 1503770518,\n",
       "     u'labels': [u'\\\\Inbox'],\n",
       "     u'msg_id': u'0100015e20c7c96c-73f4d671-7f4f-4790-845d-c641b207ea62-000000@email.amazonses.com',\n",
       "     u'path': u'/Users/GodSpeed/Documents/mailArchive/db/2017-08/1576836549675276742.meta',\n",
       "     u'subject': u'Horizon Zero Dawn - PlayStation 4',\n",
       "     u'thread_ids': 1576836549675276742,\n",
       "     u'x_gmail_received': None},\n",
       "    u'_type': u'message'}],\n",
       "  u'max_score': 9.661735,\n",
       "  u'total': 33},\n",
       " u'timed_out': False,\n",
       " u'took': 104}"
      ]
     },
     "execution_count": 47,
     "metadata": {},
     "output_type": "execute_result"
    }
   ],
   "source": [
    "es.search('mail', q='playstation')"
   ]
  },
  {
   "cell_type": "markdown",
   "metadata": {},
   "source": [
    "#### To do: \n",
    "1. sync offline mails regularly"
   ]
  },
  {
   "cell_type": "markdown",
   "metadata": {
    "collapsed": true
   },
   "source": [
    "#### Parsing emails text"
   ]
  },
  {
   "cell_type": "code",
   "execution_count": 17,
   "metadata": {
    "collapsed": true
   },
   "outputs": [],
   "source": [
    "#converting all characters to unicode, as elasticsearch handles only unicode\n",
    "def toUnicode(char):\n",
    "    return char.decode('latin-1', errors='replace')"
   ]
  },
  {
   "cell_type": "code",
   "execution_count": 18,
   "metadata": {
    "collapsed": true
   },
   "outputs": [],
   "source": [
    "import email\n",
    "import gzip"
   ]
  },
  {
   "cell_type": "code",
   "execution_count": 66,
   "metadata": {
    "collapsed": false
   },
   "outputs": [
    {
     "name": "stdout",
     "output_type": "stream",
     "text": [
      "X-Antivirus: avast (VPS 17122204)\r",
      "\r\n",
      "X-Antivirus-Status: Clean\r",
      "\r\n",
      "Delivered-To: rohitmlhtra@gmail.com\r",
      "\r\n",
      "Received: by 10.142.212.7 with SMTP id k7cs25361wfg;\r",
      "\r\n",
      "        Sun, 10 Oct 2010 08:26:52 -0700 (PDT)\r",
      "\r\n",
      "Received: by 10.213.27.136 with SMTP id i8mr2791904ebc.46.1286724411783;\r",
      "\r\n",
      "        Sun, 10 Oct 2010 08:26:51 -0700 (PDT)\r",
      "\r\n",
      "Return-Path: <NokiaAccount-no-reply@comms.nokia.com>\r",
      "\r\n",
      "Received: from saempgwp01.nokia.com (saempgwp01.nokia.com [147.243.1.20])\r",
      "\r\n",
      "        by mx.google.com with SMTP id w46si9386858eeh.61.2010.10.10.08.26.50;\r",
      "\r\n",
      "        Sun, 10 Oct 2010 08:26:51 -0700 (PDT)\r",
      "\r\n",
      "Received-SPF: pass (google.com: domain of NokiaAccount-no-reply@comms.nokia.com designates 147.243.1.20 as permitted sender) client-ip=147.243.1.20;\r",
      "\r\n",
      "Authentication-Results: mx.google.com; spf=pass (google.com: domain of NokiaAccount-no-reply@comms.nokia.com designates 147.243.1.20 as permitted sender) smtp.mail=NokiaAccount-no-reply@comms.nokia.com\r",
      "\r\n",
      "Received: (qmail 22160 invoked by uid 165); 10 Oct 2010 15:26:50 -0000\r",
      "\r\n",
      "Received: from saempp06.nokia.com (HELO localhost.localdomain) (147.243.1.27)\r",
      "\r\n",
      "  by saempgwp01.nokia.com with SMTP; 10 Oct 2010 15:26:50 -0000\r",
      "\r\n",
      "Received: from 147.243.1.30 by localhost (EMG 3.1.4.20720/20091006) id 32580234\r",
      "\r\n",
      "\tfor rohitmlhtra@gmail.com; 10 Oct 2010 18:26:50 +0200 (EEST)\r",
      "\r\n",
      "Received: from 10.218.16.13 by localhost (EMG 3.1.4.20720/20091006) id 149483679\r",
      "\r\n",
      "\tfor rohitmlhtra@gmail.com; 10 Oct 2010 18:26:50 +0200 (EEST)\r",
      "\r\n",
      "Message-ID: <1785262635.1286724410050.JavaMail.async@sl-prod-sso-eas5-1>\r",
      "\r\n",
      "Date: Sun, 10 Oct 2010 15:26:50 +0000 (UTC)\r",
      "\r\n",
      "From: Nokia account <NokiaAccount-no-reply@comms.nokia.com>\r",
      "\r\n",
      "To: rohitmlhtra@gmail.com\r",
      "\r\n",
      "Subject: Welcome to your Nokia account\r",
      "\r\n",
      "Mime-Version: 1.0\r",
      "\r\n",
      "Content-Type: text/plain; charset=us-ascii\r",
      "\r\n",
      "Content-Transfer-Encoding: 7bit\r",
      "\r\n",
      "\r",
      "\r\n",
      "\r",
      "\r\n",
      "Welcome amrindercgc,\r",
      "\r\n",
      "\r",
      "\r\n",
      "You're just one step away from opening your Nokia account.\r",
      "\r\n",
      "\r",
      "\r\n",
      "All you'll need to do is confirm that we have your correct email address. To do so, please click on the link below or cut and paste it into your browser address window:\r",
      "\r\n",
      "https://account.nokia.com/acct/verifyEmail?id=BGyOcot3vF&lang=en-US\r",
      "\r\n",
      "\r",
      "\r\n",
      "If you'd like to find out more about Nokia services please go to http://www.ovi.com. Alternatively, if you would like to update your Nokia account details, please visit https://account.nokia.com.\r",
      "\r\n",
      "\r",
      "\r\n",
      "Thank you for joining and we hope you enjoy using Nokia services.\r",
      "\r\n",
      "\r",
      "\r\n",
      "All the best,\r",
      "\r\n",
      "Nokia Account Team\r",
      "\r\n"
     ]
    }
   ],
   "source": [
    "!gzcat /Users/GodSpeed/Documents/mailArchive/db/2010-10/1349228336576455316.eml.gz"
   ]
  },
  {
   "cell_type": "code",
   "execution_count": 21,
   "metadata": {
    "collapsed": false
   },
   "outputs": [
    {
     "name": "stdout",
     "output_type": "stream",
     "text": [
      "[('X-Antivirus', 'avast (VPS 17122204)'), ('X-Antivirus-Status', 'Clean'), ('Delivered-To', 'rohitmlhtra@gmail.com'), ('Received', 'by 10.142.212.7 with SMTP id k7cs25361wfg;\\r\\n        Sun, 10 Oct 2010 08:26:52 -0700 (PDT)'), ('Received', 'by 10.213.27.136 with SMTP id i8mr2791904ebc.46.1286724411783;\\r\\n        Sun, 10 Oct 2010 08:26:51 -0700 (PDT)'), ('Return-Path', '<NokiaAccount-no-reply@comms.nokia.com>'), ('Received', 'from saempgwp01.nokia.com (saempgwp01.nokia.com [147.243.1.20])\\r\\n        by mx.google.com with SMTP id w46si9386858eeh.61.2010.10.10.08.26.50;\\r\\n        Sun, 10 Oct 2010 08:26:51 -0700 (PDT)'), ('Received-SPF', 'pass (google.com: domain of NokiaAccount-no-reply@comms.nokia.com designates 147.243.1.20 as permitted sender) client-ip=147.243.1.20;'), ('Authentication-Results', 'mx.google.com; spf=pass (google.com: domain of NokiaAccount-no-reply@comms.nokia.com designates 147.243.1.20 as permitted sender) smtp.mail=NokiaAccount-no-reply@comms.nokia.com'), ('Received', '(qmail 22160 invoked by uid 165); 10 Oct 2010 15:26:50 -0000'), ('Received', 'from saempp06.nokia.com (HELO localhost.localdomain) (147.243.1.27)\\r\\n  by saempgwp01.nokia.com with SMTP; 10 Oct 2010 15:26:50 -0000'), ('Received', 'from 147.243.1.30 by localhost (EMG 3.1.4.20720/20091006) id 32580234\\r\\n\\tfor rohitmlhtra@gmail.com; 10 Oct 2010 18:26:50 +0200 (EEST)'), ('Received', 'from 10.218.16.13 by localhost (EMG 3.1.4.20720/20091006) id 149483679\\r\\n\\tfor rohitmlhtra@gmail.com; 10 Oct 2010 18:26:50 +0200 (EEST)'), ('Message-ID', '<1785262635.1286724410050.JavaMail.async@sl-prod-sso-eas5-1>'), ('Date', 'Sun, 10 Oct 2010 15:26:50 +0000 (UTC)'), ('From', 'Nokia account <NokiaAccount-no-reply@comms.nokia.com>'), ('To', 'rohitmlhtra@gmail.com'), ('Subject', 'Welcome to your Nokia account'), ('Mime-Version', '1.0'), ('Content-Type', 'text/plain; charset=us-ascii'), ('Content-Transfer-Encoding', '7bit')]\n"
     ]
    }
   ],
   "source": [
    "with gzip.open('/Users/GodSpeed/Documents/mailArchive/db/2010-10/1349228336576455316.eml.gz', 'r') as fp:\n",
    "    message = email.message_from_file(fp)\n",
    "print \"%r\"%(message.items())"
   ]
  },
  {
   "cell_type": "code",
   "execution_count": null,
   "metadata": {
    "collapsed": true
   },
   "outputs": [],
   "source": []
  }
 ],
 "metadata": {
  "anaconda-cloud": {},
  "kernelspec": {
   "display_name": "Python [conda env:scorpion]",
   "language": "python",
   "name": "conda-env-scorpion-py"
  },
  "language_info": {
   "codemirror_mode": {
    "name": "ipython",
    "version": 2
   },
   "file_extension": ".py",
   "mimetype": "text/x-python",
   "name": "python",
   "nbconvert_exporter": "python",
   "pygments_lexer": "ipython2",
   "version": "2.7.12"
  },
  "widgets": {
   "state": {
    "03da88f664354288a1e51c3020a15be5": {
     "views": [
      {
       "cell_index": 10
      }
     ]
    },
    "046315d1a52248c1bc78a360168f30b9": {
     "views": [
      {
       "cell_index": 10
      }
     ]
    },
    "05257b278080426d9cfa59c7a624147e": {
     "views": [
      {
       "cell_index": 10
      }
     ]
    },
    "07bc96013fe348958c5ab54dfa05f3d7": {
     "views": [
      {
       "cell_index": 10
      }
     ]
    },
    "0813cd8953ac49608f8595a1ddac4bd3": {
     "views": [
      {
       "cell_index": 10
      }
     ]
    },
    "0a6ffbec2d54406f9b0ec0f2af072d8e": {
     "views": [
      {
       "cell_index": 10
      }
     ]
    },
    "0c05f3d71ba5454fac5a87dcfe29fbf3": {
     "views": [
      {
       "cell_index": 10
      }
     ]
    },
    "0ee51cb7a79042648809d6a4b4018d6f": {
     "views": [
      {
       "cell_index": 10
      }
     ]
    },
    "16183515786c447ea6eff3e6c27ecf35": {
     "views": [
      {
       "cell_index": 10
      }
     ]
    },
    "18224a4314104485aa5e0e7ec383f187": {
     "views": [
      {
       "cell_index": 10
      }
     ]
    },
    "1831f3369c69463bb7567b34b4a286eb": {
     "views": [
      {
       "cell_index": 10
      }
     ]
    },
    "1d30128e24d4445c8a63937b03a0ab03": {
     "views": [
      {
       "cell_index": 10
      }
     ]
    },
    "1df50541fb5a4c928eeffae1344e748f": {
     "views": [
      {
       "cell_index": 10
      }
     ]
    },
    "20de5b39d8284d89af61d1ae5eaf14d5": {
     "views": [
      {
       "cell_index": 10
      }
     ]
    },
    "227428126514407693a4b46cda9b9d17": {
     "views": [
      {
       "cell_index": 10
      }
     ]
    },
    "2292f20913f84ce3a553edfbd48c5a7f": {
     "views": [
      {
       "cell_index": 10
      }
     ]
    },
    "25b78769108a4c9590b80fb3141926de": {
     "views": [
      {
       "cell_index": 10
      }
     ]
    },
    "25c4531126a2413a93e03aa9764e6696": {
     "views": [
      {
       "cell_index": 10
      }
     ]
    },
    "26cdd7c05e7241d692171006c6d8f129": {
     "views": [
      {
       "cell_index": 10
      }
     ]
    },
    "27fa3aac0831412a975cea12a5137266": {
     "views": [
      {
       "cell_index": 10
      }
     ]
    },
    "282de5b65db44744a36aabee1e2c707b": {
     "views": [
      {
       "cell_index": 10
      }
     ]
    },
    "28cb1ef000a844a18b9a8d9845b7c129": {
     "views": [
      {
       "cell_index": 10
      }
     ]
    },
    "2e06b91a8174461db53154594a23e89b": {
     "views": [
      {
       "cell_index": 10
      }
     ]
    },
    "30ff3a6147d0471faa52da5b4d8f305e": {
     "views": [
      {
       "cell_index": 10
      }
     ]
    },
    "322836d13a9a43c89519e6db60b957b6": {
     "views": [
      {
       "cell_index": 10
      }
     ]
    },
    "37bc3d5a44ab4d5e8c5e8332187e4f8e": {
     "views": [
      {
       "cell_index": 10
      }
     ]
    },
    "3a6e7e9f63384d90b38a9d3a67a5d265": {
     "views": [
      {
       "cell_index": 10
      }
     ]
    },
    "3b902d15910d4552933c96ce8df42078": {
     "views": [
      {
       "cell_index": 10
      }
     ]
    },
    "3c685332c5cc41a7ac94dd5bd0ee6b82": {
     "views": [
      {
       "cell_index": 10
      }
     ]
    },
    "3ef0cce9e6aa48678f9e273f3e3228cd": {
     "views": [
      {
       "cell_index": 10
      }
     ]
    },
    "413df729c5aa42f5adfbac5fc5752255": {
     "views": [
      {
       "cell_index": 10
      }
     ]
    },
    "42a7753845ec4113bfee94e860a5a0f1": {
     "views": [
      {
       "cell_index": 10
      }
     ]
    },
    "4576f0d8860a4c55ac45857470b4ff77": {
     "views": [
      {
       "cell_index": 10
      }
     ]
    },
    "490686079ff54626b9044e6927aaa35d": {
     "views": [
      {
       "cell_index": 10
      }
     ]
    },
    "5024b0300cf7456494eb293a26a4c38d": {
     "views": [
      {
       "cell_index": 10
      }
     ]
    },
    "586ce899b626463190a9701fed9d1cd7": {
     "views": [
      {
       "cell_index": 10
      }
     ]
    },
    "598e66eb29aa4796b160c569ec2d1301": {
     "views": [
      {
       "cell_index": 10
      }
     ]
    },
    "59e745de430b4939812bc60d1111cdc7": {
     "views": [
      {
       "cell_index": 10
      }
     ]
    },
    "5f34b0171f5945bd962bb42a6063495a": {
     "views": [
      {
       "cell_index": 10
      }
     ]
    },
    "5fb246f89fd2409d9f4d46dfd3338e65": {
     "views": [
      {
       "cell_index": 10
      }
     ]
    },
    "60ede46c1a0d4fd19afc79aa556c5eea": {
     "views": [
      {
       "cell_index": 10
      }
     ]
    },
    "61e444008c6b4d3bba01f23d452b0be8": {
     "views": [
      {
       "cell_index": 10
      }
     ]
    },
    "648c11e4a10c45058f51666129a68917": {
     "views": [
      {
       "cell_index": 10
      }
     ]
    },
    "64a5996629f04f6eb73b73eb94091e8c": {
     "views": [
      {
       "cell_index": 10
      }
     ]
    },
    "6533f86fc0b04860a685436d84b3f78a": {
     "views": [
      {
       "cell_index": 10
      }
     ]
    },
    "6a196ac8288b4143b8093c1e089bc13f": {
     "views": [
      {
       "cell_index": 10
      }
     ]
    },
    "6b1c497e9c8c47eeb0513346b8fe52c7": {
     "views": [
      {
       "cell_index": 10
      }
     ]
    },
    "6ca230e4485747ce8410d895159a4e6a": {
     "views": [
      {
       "cell_index": 10
      }
     ]
    },
    "6ccfb22c41be49f29b10c349a10208e9": {
     "views": [
      {
       "cell_index": 10
      }
     ]
    },
    "6fe88b47711c4b76ae328bbf6f53e947": {
     "views": [
      {
       "cell_index": 10
      }
     ]
    },
    "70edd425a96442babf023a0491e8f681": {
     "views": [
      {
       "cell_index": 10
      }
     ]
    },
    "72edf6725e384d15950a2ddf69552fa7": {
     "views": [
      {
       "cell_index": 10
      }
     ]
    },
    "76c58dadfb8042b5a739d3038f94f95b": {
     "views": [
      {
       "cell_index": 10
      }
     ]
    },
    "775acdb64fa148b79cb5726a93ae49bb": {
     "views": [
      {
       "cell_index": 10
      }
     ]
    },
    "7bf43a4503db4d978bb3161bc2701bb4": {
     "views": [
      {
       "cell_index": 10
      }
     ]
    },
    "7e34009eb42e4eca87e6d90dc2a1ce3c": {
     "views": [
      {
       "cell_index": 10
      }
     ]
    },
    "810a47ae3ee94e31aef4a30612f790d9": {
     "views": [
      {
       "cell_index": 10
      }
     ]
    },
    "82c7b4c004534934b65b89d6dbcba3ed": {
     "views": [
      {
       "cell_index": 10
      }
     ]
    },
    "89c8e51d04ec473fac85b8dcc7822e13": {
     "views": [
      {
       "cell_index": 10
      }
     ]
    },
    "8bd5d47874364c1696900d2bab83e953": {
     "views": [
      {
       "cell_index": 10
      }
     ]
    },
    "9047828cb6664251a1318878e3f56bf5": {
     "views": [
      {
       "cell_index": 10
      }
     ]
    },
    "9195d5a82333404bb17a05f14c31ee97": {
     "views": [
      {
       "cell_index": 10
      }
     ]
    },
    "92ec14a3667e475fa466562412128566": {
     "views": [
      {
       "cell_index": 10
      }
     ]
    },
    "931432eb96264caabc4855b206b39c0f": {
     "views": [
      {
       "cell_index": 10
      }
     ]
    },
    "96ae53aae59248f5827bdee492dc64c2": {
     "views": [
      {
       "cell_index": 10
      }
     ]
    },
    "985b79a0afe348a3addff598b8d0b28e": {
     "views": [
      {
       "cell_index": 10
      }
     ]
    },
    "9b9db700b2824771aa04e45fc3e796e9": {
     "views": [
      {
       "cell_index": 10
      }
     ]
    },
    "9ed821dde567404da89cb10662fabcff": {
     "views": [
      {
       "cell_index": 10
      }
     ]
    },
    "a00b37c8a1ea419f87024aabd2611fde": {
     "views": [
      {
       "cell_index": 10
      }
     ]
    },
    "a8ead80bb786492299bfde6ffcff934d": {
     "views": [
      {
       "cell_index": 10
      }
     ]
    },
    "a9591878e075439f98db3e8ddd5a6191": {
     "views": [
      {
       "cell_index": 10
      }
     ]
    },
    "ac5ec62a31cd4e139a6f8f5d02457db5": {
     "views": [
      {
       "cell_index": 10
      }
     ]
    },
    "ad8600e1818e4684b8645831a4f13cbd": {
     "views": [
      {
       "cell_index": 10
      }
     ]
    },
    "b348f172066b4c07bba62bed196b322d": {
     "views": [
      {
       "cell_index": 10
      }
     ]
    },
    "b548c82833644d4fa1080d75dbbdd54e": {
     "views": [
      {
       "cell_index": 10
      }
     ]
    },
    "b7ca75a6d75e490293f1b88047807a7b": {
     "views": [
      {
       "cell_index": 10
      }
     ]
    },
    "b830c53a92cb498fb121b4809865b13e": {
     "views": [
      {
       "cell_index": 10
      }
     ]
    },
    "b9977867993a48dba6c23d0acd37cf95": {
     "views": [
      {
       "cell_index": 10
      }
     ]
    },
    "ba465946e4c746dc818e5797d6587bae": {
     "views": [
      {
       "cell_index": 10
      }
     ]
    },
    "ba5b42ab4fc94b2eae69702745fc08ce": {
     "views": [
      {
       "cell_index": 10
      }
     ]
    },
    "bd0aeef3cb0c4812ad967f2567c56569": {
     "views": [
      {
       "cell_index": 10
      }
     ]
    },
    "bd89ad6972c249d8b1f21580b4166291": {
     "views": [
      {
       "cell_index": 10
      }
     ]
    },
    "c0f7ecc374584e938d75ce936b8e6279": {
     "views": [
      {
       "cell_index": 10
      }
     ]
    },
    "c1e1a59c84be4589ac140b7619a561e0": {
     "views": [
      {
       "cell_index": 10
      }
     ]
    },
    "c5405ef755f94725a346a623f2b8a441": {
     "views": [
      {
       "cell_index": 10
      }
     ]
    },
    "c7aa90d12ef24defb394cc410d1df3cc": {
     "views": [
      {
       "cell_index": 10
      }
     ]
    },
    "cb900f0ff1014eb18ccf94cfef39d280": {
     "views": [
      {
       "cell_index": 10
      }
     ]
    },
    "cb9d581e1095475798d9f8b0bbc9536c": {
     "views": [
      {
       "cell_index": 10
      }
     ]
    },
    "d11bb34a3f0c4aa3ab50c0efcb617f85": {
     "views": [
      {
       "cell_index": 10
      }
     ]
    },
    "d190a428d9f8402bb5fe1832d6385cfc": {
     "views": [
      {
       "cell_index": 10
      }
     ]
    },
    "d5e0604e9a104cef9d8533a8a6f98a09": {
     "views": [
      {
       "cell_index": 10
      }
     ]
    },
    "d6f772bbaa0c495faa50391305cc34da": {
     "views": [
      {
       "cell_index": 10
      }
     ]
    },
    "d99d2d43235a486987fa3f69e5c9c685": {
     "views": [
      {
       "cell_index": 10
      }
     ]
    },
    "d9ca7efc69af4b51b5b7f1c4d737837f": {
     "views": [
      {
       "cell_index": 10
      }
     ]
    },
    "dc1989b1fcc44bd181bc3e22838e7abf": {
     "views": [
      {
       "cell_index": 10
      }
     ]
    },
    "de28ab3dd2084da2b3e97b1b744763aa": {
     "views": [
      {
       "cell_index": 10
      }
     ]
    },
    "e2b76e3fe147491f8e1f6efc601cadf4": {
     "views": [
      {
       "cell_index": 10
      }
     ]
    },
    "e2f458c891d54ab0acb46fd7b54c4648": {
     "views": [
      {
       "cell_index": 10
      }
     ]
    },
    "e3d5bf4f4d2a48919bd0113e847f2ff7": {
     "views": [
      {
       "cell_index": 10
      }
     ]
    },
    "e789b89b75144c1fbc7e479392b3eb98": {
     "views": [
      {
       "cell_index": 10
      }
     ]
    },
    "e78ee659cbef475aa13edf4daab19817": {
     "views": [
      {
       "cell_index": 10
      }
     ]
    },
    "e97b3318e2d9419d9bd87226ebef7253": {
     "views": [
      {
       "cell_index": 10
      }
     ]
    },
    "eaffba138492443fa176db16dc230707": {
     "views": [
      {
       "cell_index": 10
      }
     ]
    },
    "eb3cde6578e04269b636d094ab9fff06": {
     "views": [
      {
       "cell_index": 10
      }
     ]
    },
    "efe6bc02bd504e7e9c531e7a16c3f41d": {
     "views": [
      {
       "cell_index": 10
      }
     ]
    },
    "f10ccb9cfa2d4ec886cb7fd74ee2211d": {
     "views": [
      {
       "cell_index": 10
      }
     ]
    },
    "f1d6bb6e8ef7437794b597d7e502d3eb": {
     "views": [
      {
       "cell_index": 10
      }
     ]
    },
    "f5587b987d3a4faa861441421b18b097": {
     "views": [
      {
       "cell_index": 10
      }
     ]
    },
    "f5d2216052fc46149652e8d43e25664f": {
     "views": [
      {
       "cell_index": 10
      }
     ]
    },
    "fe13d56d50654cd0b552fb944cbf0acb": {
     "views": [
      {
       "cell_index": 10
      }
     ]
    }
   },
   "version": "1.2.0"
  }
 },
 "nbformat": 4,
 "nbformat_minor": 2
}

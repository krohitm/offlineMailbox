{
 "cells": [
  {
   "cell_type": "code",
   "execution_count": 1,
   "metadata": {
    "collapsed": false
   },
   "outputs": [],
   "source": [
    "import sys"
   ]
  },
  {
   "cell_type": "code",
   "execution_count": 2,
   "metadata": {
    "collapsed": false
   },
   "outputs": [],
   "source": [
    "import findspark\n",
    "findspark.init()\n",
    "import pyspark\n",
    "import random"
   ]
  },
  {
   "cell_type": "code",
   "execution_count": 3,
   "metadata": {
    "collapsed": true
   },
   "outputs": [],
   "source": [
    "from elasticsearch import Elasticsearch"
   ]
  },
  {
   "cell_type": "code",
   "execution_count": 6,
   "metadata": {
    "collapsed": true
   },
   "outputs": [],
   "source": [
    "es = Elasticsearch()"
   ]
  },
  {
   "cell_type": "markdown",
   "metadata": {},
   "source": [
    "#### Run the follwing command in the terminal(to authenticate) to get the mail archive before running the next commands\n",
    "gmvault sync you@gmail.com -d path/to/where/you/want/the/email/archived"
   ]
  },
  {
   "cell_type": "code",
   "execution_count": 11,
   "metadata": {
    "collapsed": false
   },
   "outputs": [
    {
     "name": "stdout",
     "output_type": "stream",
     "text": [
      "{\"thread_ids\": 1349228336576455316, \"msg_id\": \"1785262635.1286724410050.JavaMail.async@sl-prod-sso-eas5-1\", \"flags\": [\"\\\\Seen\"], \"gm_id\": 1349228336576455316, \"internal_date\": 1286706411, \"x_gmail_received\": null, \"labels\": [\"\\\\Inbox\"], \"subject\": \"Welcome to your Nokia account\"}"
     ]
    }
   ],
   "source": [
    "!cat /Users/GodSpeed/Documents/mailArchive/db/2010-10/1349228336576455316.meta"
   ]
  },
  {
   "cell_type": "code",
   "execution_count": 16,
   "metadata": {
    "collapsed": false
   },
   "outputs": [
    {
     "name": "stdout",
     "output_type": "stream",
     "text": [
      "X-Antivirus: avast (VPS 17122204)\r",
      "\r\n",
      "X-Antivirus-Status: Clean\r",
      "\r\n",
      "Delivered-To: rohitmlhtra@gmail.com\r",
      "\r\n",
      "Received: by 10.142.212.7 with SMTP id k7cs25361wfg;\r",
      "\r\n",
      "        Sun, 10 Oct 2010 08:26:52 -0700 (PDT)\r",
      "\r\n",
      "Received: by 10.213.27.136 with SMTP id i8mr2791904ebc.46.1286724411783;\r",
      "\r\n",
      "        Sun, 10 Oct 2010 08:26:51 -0700 (PDT)\r",
      "\r\n",
      "Return-Path: <NokiaAccount-no-reply@comms.nokia.com>\r",
      "\r\n",
      "Received: from saempgwp01.nokia.com (saempgwp01.nokia.com [147.243.1.20])\r",
      "\r\n",
      "        by mx.google.com with SMTP id w46si9386858eeh.61.2010.10.10.08.26.50;\r",
      "\r\n",
      "        Sun, 10 Oct 2010 08:26:51 -0700 (PDT)\r",
      "\r\n",
      "Received-SPF: pass (google.com: domain of NokiaAccount-no-reply@comms.nokia.com designates 147.243.1.20 as permitted sender) client-ip=147.243.1.20;\r",
      "\r\n",
      "Authentication-Results: mx.google.com; spf=pass (google.com: domain of NokiaAccount-no-reply@comms.nokia.com designates 147.243.1.20 as permitted sender) smtp.mail=NokiaAccount-no-reply@comms.nokia.com\r",
      "\r\n",
      "Received: (qmail 22160 invoked by uid 165); 10 Oct 2010 15:26:50 -0000\r",
      "\r\n",
      "Received: from saempp06.nokia.com (HELO localhost.localdomain) (147.243.1.27)\r",
      "\r\n",
      "  by saempgwp01.nokia.com with SMTP; 10 Oct 2010 15:26:50 -0000\r",
      "\r\n",
      "Received: from 147.243.1.30 by localhost (EMG 3.1.4.20720/20091006) id 32580234\r",
      "\r\n",
      "\tfor rohitmlhtra@gmail.com; 10 Oct 2010 18:26:50 +0200 (EEST)\r",
      "\r\n",
      "Received: from 10.218.16.13 by localhost (EMG 3.1.4.20720/20091006) id 149483679\r",
      "\r\n",
      "\tfor rohitmlhtra@gmail.com; 10 Oct 2010 18:26:50 +0200 (EEST)\r",
      "\r\n",
      "Message-ID: <1785262635.1286724410050.JavaMail.async@sl-prod-sso-eas5-1>\r",
      "\r\n",
      "Date: Sun, 10 Oct 2010 15:26:50 +0000 (UTC)\r",
      "\r\n",
      "From: Nokia account <NokiaAccount-no-reply@comms.nokia.com>\r",
      "\r\n",
      "To: rohitmlhtra@gmail.com\r",
      "\r\n",
      "Subject: Welcome to your Nokia account\r",
      "\r\n",
      "Mime-Version: 1.0\r",
      "\r\n",
      "Content-Type: text/plain; charset=us-ascii\r",
      "\r\n",
      "Content-Transfer-Encoding: 7bit\r",
      "\r\n",
      "\r",
      "\r\n",
      "\r",
      "\r\n",
      "Welcome amrindercgc,\r",
      "\r\n",
      "\r",
      "\r\n",
      "You're just one step away from opening your Nokia account.\r",
      "\r\n",
      "\r",
      "\r\n",
      "All you'll need to do is confirm that we have your correct email address. To do so, please click on the link below or cut and paste it into your browser address window:\r",
      "\r\n",
      "https://account.nokia.com/acct/verifyEmail?id=BGyOcot3vF&lang=en-US\r",
      "\r\n",
      "\r",
      "\r\n",
      "If you'd like to find out more about Nokia services please go to http://www.ovi.com. Alternatively, if you would like to update your Nokia account details, please visit https://account.nokia.com.\r",
      "\r\n",
      "\r",
      "\r\n",
      "Thank you for joining and we hope you enjoy using Nokia services.\r",
      "\r\n",
      "\r",
      "\r\n",
      "All the best,\r",
      "\r\n",
      "Nokia Account Team\r",
      "\r\n"
     ]
    }
   ],
   "source": [
    "!gzcat /Users/GodSpeed/Documents/mailArchive/db/2010-10/1349228336576455316.eml.gz"
   ]
  },
  {
   "cell_type": "markdown",
   "metadata": {},
   "source": [
    "### ===================================\n",
    "We’ll walk all the files in the root of the Gmvault database using os.walk, find all files that end in .meta, load the JSON in those files, tweak the JSON just a bit (more on that in a second), and then shove the JSON into Elasticsearch."
   ]
  },
  {
   "cell_type": "code",
   "execution_count": 4,
   "metadata": {
    "collapsed": true
   },
   "outputs": [],
   "source": [
    "import os, json, timeit"
   ]
  },
  {
   "cell_type": "code",
   "execution_count": 57,
   "metadata": {
    "collapsed": false
   },
   "outputs": [],
   "source": [
    "#can just store the mapping keys instead of the whole document,and when searched, \n",
    "#may access the data using the mapping key. This may be doe by storing the actual data somewhere else, \n",
    "#maybe hadoop or not\n",
    "\n",
    "def fileToES(folder_path):\n",
    "    for parent_folder, folders, files in os.walk(folder_path):\n",
    "        for filename in files:\n",
    "            if filename.endswith('.meta'):\n",
    "                with open(os.path.join(parent_folder, filename), 'r') as fp:\n",
    "                    meta = json.load(fp)\n",
    "                #add additional attributes to meta[_'source'], \n",
    "                #all new additions are made implicitly inside the meta['_source']\n",
    "                meta['account'] = 'rohit.mlhtra@gmail.com'\n",
    "                meta['path'] = os.path.join(parent_folder, filename)\n",
    "                es.index(index = 'mail', doc_type = 'message', id = meta['gm_id'], body=meta)"
   ]
  },
  {
   "cell_type": "code",
   "execution_count": 60,
   "metadata": {
    "collapsed": false
   },
   "outputs": [],
   "source": [
    "folder_path = '/Users/GodSpeed/Documents/mailArchive/'\n",
    "fileToES(folder_path)"
   ]
  },
  {
   "cell_type": "markdown",
   "metadata": {},
   "source": [
    "## Searching the metadata"
   ]
  },
  {
   "cell_type": "markdown",
   "metadata": {},
   "source": [
    "##### Lazy search(non structured query)"
   ]
  },
  {
   "cell_type": "code",
   "execution_count": 9,
   "metadata": {
    "collapsed": false
   },
   "outputs": [
    {
     "data": {
      "text/plain": [
       "{u'_shards': {u'failed': 0, u'skipped': 0, u'successful': 5, u'total': 5},\n",
       " u'hits': {u'hits': [{u'_id': u'1574119758260325826',\n",
       "    u'_index': u'mail',\n",
       "    u'_score': 9.661735,\n",
       "    u'_source': {u'account': u'rohit.mlhtra@gmail.com',\n",
       "     u'flags': [u'\\\\Seen'],\n",
       "     u'gm_id': 1574119758260325826,\n",
       "     u'internal_date': 1501179584,\n",
       "     u'labels': [u'\\\\Inbox'],\n",
       "     u'msg_id': u'0100015d86594699-8fb526c7-a6dc-4bfd-9c3f-7ea2c9febfd5-000000@email.amazonses.com',\n",
       "     u'path': u'/Users/GodSpeed/Documents/mailArchive/db/2017-07/1574119758260325826.meta',\n",
       "     u'subject': u'PlayStation 4 Slim 500GB...',\n",
       "     u'thread_ids': 1574119758260325826,\n",
       "     u'x_gmail_received': None},\n",
       "    u'_type': u'message'},\n",
       "   {u'_id': u'1585158307223876652',\n",
       "    u'_index': u'mail',\n",
       "    u'_score': 9.435886,\n",
       "    u'_source': {u'account': u'rohit.mlhtra@gmail.com',\n",
       "     u'flags': [u'\\\\Seen'],\n",
       "     u'gm_id': 1585158307223876652,\n",
       "     u'internal_date': 1511706764,\n",
       "     u'labels': [u'\\\\Inbox'],\n",
       "     u'msg_id': u'c40d6405-3c7e-4c86-9839-5806efb32ccb@ind1s06mta934.xt.local',\n",
       "     u'path': u'/Users/GodSpeed/Documents/mailArchive/db/2017-11/1585158307223876652.meta',\n",
       "     u'subject': u'Congratulations on your new PlayStation',\n",
       "     u'thread_ids': 1585158307223876652,\n",
       "     u'x_gmail_received': None},\n",
       "    u'_type': u'message'},\n",
       "   {u'_id': u'1582925169382463414',\n",
       "    u'_index': u'mail',\n",
       "    u'_score': 9.435886,\n",
       "    u'_source': {u'account': u'rohit.mlhtra@gmail.com',\n",
       "     u'flags': [u'\\\\Seen'],\n",
       "     u'gm_id': 1582925169382463414,\n",
       "     u'internal_date': 1509577079,\n",
       "     u'labels': [u'\\\\Important', u'\\\\Inbox'],\n",
       "     u'msg_id': u'0100015f7ae0df79-1966e4f5-2850-429a-91b9-e2b5dbfaaa2c-000000@email.amazonses.com',\n",
       "     u'path': u'/Users/GodSpeed/Documents/mailArchive/db/2017-11/1582925169382463414.meta',\n",
       "     u'subject': u'PlayStation 4 Slim 1TB Console...',\n",
       "     u'thread_ids': 1582925169382463414,\n",
       "     u'x_gmail_received': None},\n",
       "    u'_type': u'message'},\n",
       "   {u'_id': u'1585024761409654986',\n",
       "    u'_index': u'mail',\n",
       "    u'_score': 9.31471,\n",
       "    u'_source': {u'account': u'rohit.mlhtra@gmail.com',\n",
       "     u'flags': [u'\\\\Seen'],\n",
       "     u'gm_id': 1585024761409654986,\n",
       "     u'internal_date': 1511579405,\n",
       "     u'labels': [u'\\\\Important', u'\\\\Inbox'],\n",
       "     u'msg_id': u'02cda068-8d03-4e51-8042-80aafa5c7977@xtinp2mta1261.xt.local',\n",
       "     u'path': u'/Users/GodSpeed/Documents/mailArchive/db/2017-11/1585024761409654986.meta',\n",
       "     u'subject': u'Welcome to PlayStation Store',\n",
       "     u'thread_ids': 1585024761409654986,\n",
       "     u'x_gmail_received': None},\n",
       "    u'_type': u'message'},\n",
       "   {u'_id': u'1581095209992690265',\n",
       "    u'_index': u'mail',\n",
       "    u'_score': 9.312588,\n",
       "    u'_source': {u'account': u'rohit.mlhtra@gmail.com',\n",
       "     u'flags': [u'\\\\Seen'],\n",
       "     u'gm_id': 1581095209992690265,\n",
       "     u'internal_date': 1507831893,\n",
       "     u'labels': [u'\\\\Important', u'\\\\Inbox'],\n",
       "     u'msg_id': u'0100015f12db741f-48be5151-f310-419a-b7d8-6d0bb3da3b82-000000@email.amazonses.com',\n",
       "     u'path': u'/Users/GodSpeed/Documents/mailArchive/db/2017-10/1581095209992690265.meta',\n",
       "     u'subject': u'PlayStation 4 Slim 500GB...',\n",
       "     u'thread_ids': 1581095209992690265,\n",
       "     u'x_gmail_received': None},\n",
       "    u'_type': u'message'},\n",
       "   {u'_id': u'1585904048939469895',\n",
       "    u'_index': u'mail',\n",
       "    u'_score': 8.722022,\n",
       "    u'_source': {u'account': u'rohit.mlhtra@gmail.com',\n",
       "     u'flags': [u'\\\\Seen'],\n",
       "     u'gm_id': 1585904048939469895,\n",
       "     u'internal_date': 1512417959,\n",
       "     u'labels': [u'\\\\Important', u'\\\\Inbox'],\n",
       "     u'msg_id': u'010001602435443b-3880e07f-c7cc-425f-9d8b-08a9a22f348c-000000@email.amazonses.com',\n",
       "     u'path': u'/Users/GodSpeed/Documents/mailArchive/db/2017-12/1585904048939469895.meta',\n",
       "     u'subject': u'PlayStation 4 Slim 1TB Console',\n",
       "     u'thread_ids': 1585904048939469895,\n",
       "     u'x_gmail_received': None},\n",
       "    u'_type': u'message'},\n",
       "   {u'_id': u'1576836549675276742',\n",
       "    u'_index': u'mail',\n",
       "    u'_score': 8.720243,\n",
       "    u'_source': {u'account': u'rohit.mlhtra@gmail.com',\n",
       "     u'flags': [u'\\\\Seen'],\n",
       "     u'gm_id': 1576836549675276742,\n",
       "     u'internal_date': 1503770518,\n",
       "     u'labels': [u'\\\\Inbox'],\n",
       "     u'msg_id': u'0100015e20c7c96c-73f4d671-7f4f-4790-845d-c641b207ea62-000000@email.amazonses.com',\n",
       "     u'path': u'/Users/GodSpeed/Documents/mailArchive/db/2017-08/1576836549675276742.meta',\n",
       "     u'subject': u'Horizon Zero Dawn - PlayStation 4',\n",
       "     u'thread_ids': 1576836549675276742,\n",
       "     u'x_gmail_received': None},\n",
       "    u'_type': u'message'},\n",
       "   {u'_id': u'1574394939978840641',\n",
       "    u'_index': u'mail',\n",
       "    u'_score': 8.720243,\n",
       "    u'_source': {u'account': u'rohit.mlhtra@gmail.com',\n",
       "     u'flags': [u'\\\\Seen'],\n",
       "     u'gm_id': 1574394939978840641,\n",
       "     u'internal_date': 1501442017,\n",
       "     u'labels': [u'\\\\Inbox'],\n",
       "     u'msg_id': u'0100015d95fdb074-9883042a-9568-4887-b13f-1dfec5dc8a76-000000@email.amazonses.com',\n",
       "     u'path': u'/Users/GodSpeed/Documents/mailArchive/db/2017-07/1574394939978840641.meta',\n",
       "     u'subject': u'PlayStation 4 Pro 1TB Console',\n",
       "     u'thread_ids': 1574394939978840641,\n",
       "     u'x_gmail_received': None},\n",
       "    u'_type': u'message'},\n",
       "   {u'_id': u'1576927933321089889',\n",
       "    u'_index': u'mail',\n",
       "    u'_score': 8.505686,\n",
       "    u'_source': {u'account': u'rohit.mlhtra@gmail.com',\n",
       "     u'flags': [u'\\\\Seen'],\n",
       "     u'gm_id': 1576927933321089889,\n",
       "     u'internal_date': 1503857668,\n",
       "     u'labels': [u'\\\\Inbox'],\n",
       "     u'msg_id': u'0100015e25f9974b-baae8fa5-98c4-4f8c-84a1-0f7217958b4e-000000@email.amazonses.com',\n",
       "     u'path': u'/Users/GodSpeed/Documents/mailArchive/db/2017-08/1576927933321089889.meta',\n",
       "     u'subject': u'\"PlayStation 4 Slim 500GB...\" and more',\n",
       "     u'thread_ids': 1576927933321089889,\n",
       "     u'x_gmail_received': None},\n",
       "    u'_type': u'message'},\n",
       "   {u'_id': u'1578196803964938307',\n",
       "    u'_index': u'mail',\n",
       "    u'_score': 8.025549,\n",
       "    u'_source': {u'account': u'rohit.mlhtra@gmail.com',\n",
       "     u'flags': [u'\\\\Seen'],\n",
       "     u'gm_id': 1578196803964938307,\n",
       "     u'internal_date': 1505067758,\n",
       "     u'labels': [u'\\\\Important', u'\\\\Inbox'],\n",
       "     u'msg_id': u'0100015e6e1a1866-b8dca893-2185-4be4-97b9-02894ca2c773-000000@email.amazonses.com',\n",
       "     u'path': u'/Users/GodSpeed/Documents/mailArchive/db/2017-09/1578196803964938307.meta',\n",
       "     u'subject': u'\"PlayStation 4 Slim 1TB Gold...\" and more',\n",
       "     u'thread_ids': 1578196803964938307,\n",
       "     u'x_gmail_received': None},\n",
       "    u'_type': u'message'}],\n",
       "  u'max_score': 9.661735,\n",
       "  u'total': 14},\n",
       " u'timed_out': False,\n",
       " u'took': 150}"
      ]
     },
     "execution_count": 9,
     "metadata": {},
     "output_type": "execute_result"
    }
   ],
   "source": [
    "es.search('mail', q='playstation')"
   ]
  },
  {
   "cell_type": "markdown",
   "metadata": {},
   "source": [
    "#### To do: \n",
    "1. sync offline mails regularly"
   ]
  },
  {
   "cell_type": "code",
   "execution_count": null,
   "metadata": {
    "collapsed": true
   },
   "outputs": [],
   "source": []
  }
 ],
 "metadata": {
  "anaconda-cloud": {},
  "kernelspec": {
   "display_name": "Python [conda env:scorpion]",
   "language": "python",
   "name": "conda-env-scorpion-py"
  },
  "language_info": {
   "codemirror_mode": {
    "name": "ipython",
    "version": 2
   },
   "file_extension": ".py",
   "mimetype": "text/x-python",
   "name": "python",
   "nbconvert_exporter": "python",
   "pygments_lexer": "ipython2",
   "version": "2.7.12"
  }
 },
 "nbformat": 4,
 "nbformat_minor": 2
}
